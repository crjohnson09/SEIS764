{
  "nbformat": 4,
  "nbformat_minor": 0,
  "metadata": {
    "colab": {
      "provenance": [],
      "collapsed_sections": [],
      "mount_file_id": "1FI6C3SYm3bl6lzntOGsT7fuv6t8I51DA",
      "authorship_tag": "ABX9TyO0cCO6/3yrwJ9nY1x/1WwK",
      "include_colab_link": true
    },
    "kernelspec": {
      "name": "python3",
      "display_name": "Python 3"
    },
    "language_info": {
      "name": "python"
    },
    "accelerator": "GPU",
    "gpuClass": "standard"
  },
  "cells": [
    {
      "cell_type": "markdown",
      "metadata": {
        "id": "view-in-github",
        "colab_type": "text"
      },
      "source": [
        "<a href=\"https://colab.research.google.com/github/crjohnson09/SEIS764/blob/main/Assignment4.ipynb\" target=\"_parent\"><img src=\"https://colab.research.google.com/assets/colab-badge.svg\" alt=\"Open In Colab\"/></a>"
      ]
    },
    {
      "cell_type": "markdown",
      "source": [
        "Colton Johnson <br>\n",
        "SEIS 764-02"
      ],
      "metadata": {
        "id": "cGherPyF7KhK"
      }
    },
    {
      "cell_type": "code",
      "source": [
        "import pandas as pd\n",
        "import tensorflow as tf\n",
        "import numpy as np\n",
        "from tensorflow import keras\n",
        "import matplotlib.pyplot as plt"
      ],
      "metadata": {
        "id": "31vNHneFTH-1"
      },
      "execution_count": 1,
      "outputs": []
    },
    {
      "cell_type": "code",
      "source": [
        "url = \"https://raw.githubusercontent.com/crjohnson09/SEIS764/main/insurance%20(1).csv\"\n",
        "df = pd.read_csv(url)\n",
        "# Dataset is now stored in a Pandas Dataframe"
      ],
      "metadata": {
        "id": "oVByzLCwkvFN"
      },
      "execution_count": 2,
      "outputs": []
    },
    {
      "cell_type": "code",
      "source": [
        "df.head(1)"
      ],
      "metadata": {
        "colab": {
          "base_uri": "https://localhost:8080/",
          "height": 81
        },
        "id": "6DyB2FGlHQ-M",
        "outputId": "9b4810a0-cca0-4920-c052-5ce2a034b9b1"
      },
      "execution_count": 146,
      "outputs": [
        {
          "output_type": "execute_result",
          "data": {
            "text/plain": [
              "   age     sex   bmi  children smoker     region  sex_male  smoker_yes  \\\n",
              "0   19  female  27.9         0    yes  southwest         0           1   \n",
              "\n",
              "   region_northwest  region_southeast  region_southwest  \n",
              "0                 0                 0                 1  "
            ],
            "text/html": [
              "\n",
              "  <div id=\"df-c310bb3a-adf6-451f-b2ae-37674d32756f\">\n",
              "    <div class=\"colab-df-container\">\n",
              "      <div>\n",
              "<style scoped>\n",
              "    .dataframe tbody tr th:only-of-type {\n",
              "        vertical-align: middle;\n",
              "    }\n",
              "\n",
              "    .dataframe tbody tr th {\n",
              "        vertical-align: top;\n",
              "    }\n",
              "\n",
              "    .dataframe thead th {\n",
              "        text-align: right;\n",
              "    }\n",
              "</style>\n",
              "<table border=\"1\" class=\"dataframe\">\n",
              "  <thead>\n",
              "    <tr style=\"text-align: right;\">\n",
              "      <th></th>\n",
              "      <th>age</th>\n",
              "      <th>sex</th>\n",
              "      <th>bmi</th>\n",
              "      <th>children</th>\n",
              "      <th>smoker</th>\n",
              "      <th>region</th>\n",
              "      <th>sex_male</th>\n",
              "      <th>smoker_yes</th>\n",
              "      <th>region_northwest</th>\n",
              "      <th>region_southeast</th>\n",
              "      <th>region_southwest</th>\n",
              "    </tr>\n",
              "  </thead>\n",
              "  <tbody>\n",
              "    <tr>\n",
              "      <th>0</th>\n",
              "      <td>19</td>\n",
              "      <td>female</td>\n",
              "      <td>27.9</td>\n",
              "      <td>0</td>\n",
              "      <td>yes</td>\n",
              "      <td>southwest</td>\n",
              "      <td>0</td>\n",
              "      <td>1</td>\n",
              "      <td>0</td>\n",
              "      <td>0</td>\n",
              "      <td>1</td>\n",
              "    </tr>\n",
              "  </tbody>\n",
              "</table>\n",
              "</div>\n",
              "      <button class=\"colab-df-convert\" onclick=\"convertToInteractive('df-c310bb3a-adf6-451f-b2ae-37674d32756f')\"\n",
              "              title=\"Convert this dataframe to an interactive table.\"\n",
              "              style=\"display:none;\">\n",
              "        \n",
              "  <svg xmlns=\"http://www.w3.org/2000/svg\" height=\"24px\"viewBox=\"0 0 24 24\"\n",
              "       width=\"24px\">\n",
              "    <path d=\"M0 0h24v24H0V0z\" fill=\"none\"/>\n",
              "    <path d=\"M18.56 5.44l.94 2.06.94-2.06 2.06-.94-2.06-.94-.94-2.06-.94 2.06-2.06.94zm-11 1L8.5 8.5l.94-2.06 2.06-.94-2.06-.94L8.5 2.5l-.94 2.06-2.06.94zm10 10l.94 2.06.94-2.06 2.06-.94-2.06-.94-.94-2.06-.94 2.06-2.06.94z\"/><path d=\"M17.41 7.96l-1.37-1.37c-.4-.4-.92-.59-1.43-.59-.52 0-1.04.2-1.43.59L10.3 9.45l-7.72 7.72c-.78.78-.78 2.05 0 2.83L4 21.41c.39.39.9.59 1.41.59.51 0 1.02-.2 1.41-.59l7.78-7.78 2.81-2.81c.8-.78.8-2.07 0-2.86zM5.41 20L4 18.59l7.72-7.72 1.47 1.35L5.41 20z\"/>\n",
              "  </svg>\n",
              "      </button>\n",
              "      \n",
              "  <style>\n",
              "    .colab-df-container {\n",
              "      display:flex;\n",
              "      flex-wrap:wrap;\n",
              "      gap: 12px;\n",
              "    }\n",
              "\n",
              "    .colab-df-convert {\n",
              "      background-color: #E8F0FE;\n",
              "      border: none;\n",
              "      border-radius: 50%;\n",
              "      cursor: pointer;\n",
              "      display: none;\n",
              "      fill: #1967D2;\n",
              "      height: 32px;\n",
              "      padding: 0 0 0 0;\n",
              "      width: 32px;\n",
              "    }\n",
              "\n",
              "    .colab-df-convert:hover {\n",
              "      background-color: #E2EBFA;\n",
              "      box-shadow: 0px 1px 2px rgba(60, 64, 67, 0.3), 0px 1px 3px 1px rgba(60, 64, 67, 0.15);\n",
              "      fill: #174EA6;\n",
              "    }\n",
              "\n",
              "    [theme=dark] .colab-df-convert {\n",
              "      background-color: #3B4455;\n",
              "      fill: #D2E3FC;\n",
              "    }\n",
              "\n",
              "    [theme=dark] .colab-df-convert:hover {\n",
              "      background-color: #434B5C;\n",
              "      box-shadow: 0px 1px 3px 1px rgba(0, 0, 0, 0.15);\n",
              "      filter: drop-shadow(0px 1px 2px rgba(0, 0, 0, 0.3));\n",
              "      fill: #FFFFFF;\n",
              "    }\n",
              "  </style>\n",
              "\n",
              "      <script>\n",
              "        const buttonEl =\n",
              "          document.querySelector('#df-c310bb3a-adf6-451f-b2ae-37674d32756f button.colab-df-convert');\n",
              "        buttonEl.style.display =\n",
              "          google.colab.kernel.accessAllowed ? 'block' : 'none';\n",
              "\n",
              "        async function convertToInteractive(key) {\n",
              "          const element = document.querySelector('#df-c310bb3a-adf6-451f-b2ae-37674d32756f');\n",
              "          const dataTable =\n",
              "            await google.colab.kernel.invokeFunction('convertToInteractive',\n",
              "                                                     [key], {});\n",
              "          if (!dataTable) return;\n",
              "\n",
              "          const docLinkHtml = 'Like what you see? Visit the ' +\n",
              "            '<a target=\"_blank\" href=https://colab.research.google.com/notebooks/data_table.ipynb>data table notebook</a>'\n",
              "            + ' to learn more about interactive tables.';\n",
              "          element.innerHTML = '';\n",
              "          dataTable['output_type'] = 'display_data';\n",
              "          await google.colab.output.renderOutput(dataTable, element);\n",
              "          const docLink = document.createElement('div');\n",
              "          docLink.innerHTML = docLinkHtml;\n",
              "          element.appendChild(docLink);\n",
              "        }\n",
              "      </script>\n",
              "    </div>\n",
              "  </div>\n",
              "  "
            ]
          },
          "metadata": {},
          "execution_count": 146
        }
      ]
    },
    {
      "cell_type": "markdown",
      "source": [
        "<h1>Data cleaning from Assignment 2</h1>"
      ],
      "metadata": {
        "id": "o9cAazKQ_H5a"
      }
    },
    {
      "cell_type": "code",
      "source": [
        "#drop dups\n",
        "df =df[~df.duplicated(keep='last')].reset_index(drop=True)\n",
        "#dummies\n",
        "cata=df.select_dtypes(\"object\")\n",
        "dummies = pd.get_dummies(cata,drop_first=True) # first class is also dropped\n",
        "df = pd.concat([df,dummies], axis=1)\n",
        "#set up x and y\n",
        "y = df.pop(\"charges\")\n",
        "X = df[df.columns.difference([\"sex\",\"smoker\",\"region\"])]\n",
        "# normalize\n",
        "data=X.select_dtypes([\"int\",\"float\"])\n",
        "\n",
        "from sklearn.model_selection import train_test_split\n",
        "X_train, X_test, y_train, y_test = train_test_split(X, y, test_size=0.30, random_state=1) # train test split 70-30\n",
        "\n",
        "from sklearn.preprocessing import StandardScaler\n",
        "scaler=StandardScaler()\n",
        "#train\n",
        "to_norm = X_train.select_dtypes([\"int\",\"float\"])\n",
        "X_normalized = pd.DataFrame(scaler.fit_transform(to_norm),columns=[\"age-norm\",\"bmi-norm\",\"children-norm\"],index=to_norm.index)\n",
        "X_train = pd.concat([X_train,X_normalized],axis=1)\n",
        "X_train=X_train.iloc[:,3:]\n",
        "#test\n",
        "to_norm = X_test.select_dtypes([\"int\",\"float\"])\n",
        "X_normalized= pd.DataFrame(scaler.transform(to_norm),columns=[\"age-norm\",\"bmi-norm\",\"children-norm\"],index=to_norm.index)\n",
        "X_test = pd.concat([X_test,X_normalized],axis=1)\n",
        "X_test=X_test.iloc[:,3:]"
      ],
      "metadata": {
        "id": "c3xyxngI2diD"
      },
      "execution_count": 3,
      "outputs": []
    },
    {
      "cell_type": "code",
      "source": [
        "y_train"
      ],
      "metadata": {
        "colab": {
          "base_uri": "https://localhost:8080/"
        },
        "id": "E0IxsQzK5SGT",
        "outputId": "05043a91-3559-4750-ad1f-67efe95e854b"
      },
      "execution_count": 4,
      "outputs": [
        {
          "output_type": "execute_result",
          "data": {
            "text/plain": [
              "520      3994.177800\n",
              "575      1664.999600\n",
              "769     27941.287580\n",
              "314      9722.769500\n",
              "426      7323.734819\n",
              "            ...     \n",
              "715      9566.990900\n",
              "905      4846.920150\n",
              "1096     1674.632300\n",
              "235      1615.766700\n",
              "1061    48970.247600\n",
              "Name: charges, Length: 935, dtype: float64"
            ]
          },
          "metadata": {},
          "execution_count": 4
        }
      ]
    },
    {
      "cell_type": "code",
      "source": [],
      "metadata": {
        "id": "thTLb_zQ5SJ7"
      },
      "execution_count": 4,
      "outputs": []
    },
    {
      "cell_type": "code",
      "source": [
        "X_train.shape"
      ],
      "metadata": {
        "colab": {
          "base_uri": "https://localhost:8080/"
        },
        "id": "FLxne1VGRqGl",
        "outputId": "9b1be059-7ab7-4bca-fa80-5c2ab6a69c0d"
      },
      "execution_count": 5,
      "outputs": [
        {
          "output_type": "execute_result",
          "data": {
            "text/plain": [
              "(935, 8)"
            ]
          },
          "metadata": {},
          "execution_count": 5
        }
      ]
    },
    {
      "cell_type": "code",
      "source": [
        "X_train.head(2)"
      ],
      "metadata": {
        "colab": {
          "base_uri": "https://localhost:8080/",
          "height": 112
        },
        "id": "HT6ev9Zlec63",
        "outputId": "53d82beb-5cb0-4bd0-f3f6-88a1fc9c60a0"
      },
      "execution_count": 6,
      "outputs": [
        {
          "output_type": "execute_result",
          "data": {
            "text/plain": [
              "     region_northwest  region_southeast  region_southwest  sex_male  \\\n",
              "520                 0                 1                 0         0   \n",
              "575                 0                 1                 0         1   \n",
              "\n",
              "     smoker_yes  age-norm  bmi-norm  children-norm  \n",
              "520           0  -0.50753  2.242167      -0.907238  \n",
              "575           0  -1.21792 -0.630726      -0.907238  "
            ],
            "text/html": [
              "\n",
              "  <div id=\"df-b0b5db42-a4f1-42b1-b5db-a7edb7adf71d\">\n",
              "    <div class=\"colab-df-container\">\n",
              "      <div>\n",
              "<style scoped>\n",
              "    .dataframe tbody tr th:only-of-type {\n",
              "        vertical-align: middle;\n",
              "    }\n",
              "\n",
              "    .dataframe tbody tr th {\n",
              "        vertical-align: top;\n",
              "    }\n",
              "\n",
              "    .dataframe thead th {\n",
              "        text-align: right;\n",
              "    }\n",
              "</style>\n",
              "<table border=\"1\" class=\"dataframe\">\n",
              "  <thead>\n",
              "    <tr style=\"text-align: right;\">\n",
              "      <th></th>\n",
              "      <th>region_northwest</th>\n",
              "      <th>region_southeast</th>\n",
              "      <th>region_southwest</th>\n",
              "      <th>sex_male</th>\n",
              "      <th>smoker_yes</th>\n",
              "      <th>age-norm</th>\n",
              "      <th>bmi-norm</th>\n",
              "      <th>children-norm</th>\n",
              "    </tr>\n",
              "  </thead>\n",
              "  <tbody>\n",
              "    <tr>\n",
              "      <th>520</th>\n",
              "      <td>0</td>\n",
              "      <td>1</td>\n",
              "      <td>0</td>\n",
              "      <td>0</td>\n",
              "      <td>0</td>\n",
              "      <td>-0.50753</td>\n",
              "      <td>2.242167</td>\n",
              "      <td>-0.907238</td>\n",
              "    </tr>\n",
              "    <tr>\n",
              "      <th>575</th>\n",
              "      <td>0</td>\n",
              "      <td>1</td>\n",
              "      <td>0</td>\n",
              "      <td>1</td>\n",
              "      <td>0</td>\n",
              "      <td>-1.21792</td>\n",
              "      <td>-0.630726</td>\n",
              "      <td>-0.907238</td>\n",
              "    </tr>\n",
              "  </tbody>\n",
              "</table>\n",
              "</div>\n",
              "      <button class=\"colab-df-convert\" onclick=\"convertToInteractive('df-b0b5db42-a4f1-42b1-b5db-a7edb7adf71d')\"\n",
              "              title=\"Convert this dataframe to an interactive table.\"\n",
              "              style=\"display:none;\">\n",
              "        \n",
              "  <svg xmlns=\"http://www.w3.org/2000/svg\" height=\"24px\"viewBox=\"0 0 24 24\"\n",
              "       width=\"24px\">\n",
              "    <path d=\"M0 0h24v24H0V0z\" fill=\"none\"/>\n",
              "    <path d=\"M18.56 5.44l.94 2.06.94-2.06 2.06-.94-2.06-.94-.94-2.06-.94 2.06-2.06.94zm-11 1L8.5 8.5l.94-2.06 2.06-.94-2.06-.94L8.5 2.5l-.94 2.06-2.06.94zm10 10l.94 2.06.94-2.06 2.06-.94-2.06-.94-.94-2.06-.94 2.06-2.06.94z\"/><path d=\"M17.41 7.96l-1.37-1.37c-.4-.4-.92-.59-1.43-.59-.52 0-1.04.2-1.43.59L10.3 9.45l-7.72 7.72c-.78.78-.78 2.05 0 2.83L4 21.41c.39.39.9.59 1.41.59.51 0 1.02-.2 1.41-.59l7.78-7.78 2.81-2.81c.8-.78.8-2.07 0-2.86zM5.41 20L4 18.59l7.72-7.72 1.47 1.35L5.41 20z\"/>\n",
              "  </svg>\n",
              "      </button>\n",
              "      \n",
              "  <style>\n",
              "    .colab-df-container {\n",
              "      display:flex;\n",
              "      flex-wrap:wrap;\n",
              "      gap: 12px;\n",
              "    }\n",
              "\n",
              "    .colab-df-convert {\n",
              "      background-color: #E8F0FE;\n",
              "      border: none;\n",
              "      border-radius: 50%;\n",
              "      cursor: pointer;\n",
              "      display: none;\n",
              "      fill: #1967D2;\n",
              "      height: 32px;\n",
              "      padding: 0 0 0 0;\n",
              "      width: 32px;\n",
              "    }\n",
              "\n",
              "    .colab-df-convert:hover {\n",
              "      background-color: #E2EBFA;\n",
              "      box-shadow: 0px 1px 2px rgba(60, 64, 67, 0.3), 0px 1px 3px 1px rgba(60, 64, 67, 0.15);\n",
              "      fill: #174EA6;\n",
              "    }\n",
              "\n",
              "    [theme=dark] .colab-df-convert {\n",
              "      background-color: #3B4455;\n",
              "      fill: #D2E3FC;\n",
              "    }\n",
              "\n",
              "    [theme=dark] .colab-df-convert:hover {\n",
              "      background-color: #434B5C;\n",
              "      box-shadow: 0px 1px 3px 1px rgba(0, 0, 0, 0.15);\n",
              "      filter: drop-shadow(0px 1px 2px rgba(0, 0, 0, 0.3));\n",
              "      fill: #FFFFFF;\n",
              "    }\n",
              "  </style>\n",
              "\n",
              "      <script>\n",
              "        const buttonEl =\n",
              "          document.querySelector('#df-b0b5db42-a4f1-42b1-b5db-a7edb7adf71d button.colab-df-convert');\n",
              "        buttonEl.style.display =\n",
              "          google.colab.kernel.accessAllowed ? 'block' : 'none';\n",
              "\n",
              "        async function convertToInteractive(key) {\n",
              "          const element = document.querySelector('#df-b0b5db42-a4f1-42b1-b5db-a7edb7adf71d');\n",
              "          const dataTable =\n",
              "            await google.colab.kernel.invokeFunction('convertToInteractive',\n",
              "                                                     [key], {});\n",
              "          if (!dataTable) return;\n",
              "\n",
              "          const docLinkHtml = 'Like what you see? Visit the ' +\n",
              "            '<a target=\"_blank\" href=https://colab.research.google.com/notebooks/data_table.ipynb>data table notebook</a>'\n",
              "            + ' to learn more about interactive tables.';\n",
              "          element.innerHTML = '';\n",
              "          dataTable['output_type'] = 'display_data';\n",
              "          await google.colab.output.renderOutput(dataTable, element);\n",
              "          const docLink = document.createElement('div');\n",
              "          docLink.innerHTML = docLinkHtml;\n",
              "          element.appendChild(docLink);\n",
              "        }\n",
              "      </script>\n",
              "    </div>\n",
              "  </div>\n",
              "  "
            ]
          },
          "metadata": {},
          "execution_count": 6
        }
      ]
    },
    {
      "cell_type": "markdown",
      "source": [
        "<h1>Part 1 </h1> <br>\n",
        "<span>In the last assignment, you worked on the insurance dataset and built a regression model with one Dense unit. Using \n",
        "the same dataset, this time build a deep neural network for regression. Use a 70-30 train-test split. You should try the \n",
        "following:<br>  \n",
        "• Different number of hidden layers.  <br>\n",
        "• Different number of units in each of the hidden layers.  <br>\n",
        "• Different learning rates  <br>\n",
        "• Different optimizers  <br>\n",
        "You should summarize and explain which architecture gave you the best results. </span>\n"
      ],
      "metadata": {
        "id": "LqEVEQeUMisb"
      }
    },
    {
      "cell_type": "code",
      "source": [
        "# #model design\n",
        "# model1 = tf.keras.models.Sequential([\n",
        "#   tf.keras.layers.Dense(64, input_shape=(8,), activation='relu'),\n",
        "#   tf.keras.layers.Dense(1)\n",
        "# ])\n",
        "# #define opt and loss\n",
        "# opt =tf.keras.optimizers.Adam(0.01)\n",
        "# model1.compile(optimizer=opt, loss='mean_squared_error')"
      ],
      "metadata": {
        "id": "MEv3elA9Mhks"
      },
      "execution_count": 7,
      "outputs": []
    },
    {
      "cell_type": "code",
      "source": [
        "# Wide model\n",
        "model1 = tf.keras.models.Sequential()\n",
        "\n",
        "#Adding input layer \n",
        "model1.add(tf.keras.layers.Dense(units=128, input_shape=[8], activation='relu'))\n",
        "# model1.add(tf.keras.layers.Dropout(0.1))\n",
        "\n",
        "#Adding hidden layer\n",
        "model1.add(tf.keras.layers.Dense(units=64, activation='relu'))\n",
        "model1.add(tf.keras.layers.Dropout(0.01))\n",
        "\n",
        "#Adding hidden layer\n",
        "model1.add(tf.keras.layers.Dense(units=32, activation='relu'))\n",
        "model1.add(tf.keras.layers.Dropout(0.01))\n",
        "\n",
        "#Adding hidden layer\n",
        "model1.add(tf.keras.layers.Dense(units=16, activation='relu'))\n",
        "model1.add(tf.keras.layers.Dropout(0.01))\n",
        "\n",
        "#Adding hidden layer\n",
        "model1.add(tf.keras.layers.Dense(units=8, activation='relu'))\n",
        "model1.add(tf.keras.layers.Dropout(0.01))\n",
        "\n",
        "#Adding hidden layer\n",
        "model1.add(tf.keras.layers.Dense(units=2, activation='relu'))\n",
        "model1.add(tf.keras.layers.Dropout(0.01))\n",
        "\n",
        "#Adding hidden layer Odd layer\n",
        "model1.add(tf.keras.layers.Dense(units=3, activation='relu'))\n",
        "model1.add(tf.keras.layers.Dropout(0.01))\n",
        "\n",
        "#Adding an output layer\n",
        "model1.add(tf.keras.layers.Dense(units=1))\n",
        "\n",
        "model1.compile(optimizer=tf.keras.optimizers.Adam(0.01), loss='mean_squared_error')"
      ],
      "metadata": {
        "id": "SmvEiROXIXdy"
      },
      "execution_count": 157,
      "outputs": []
    },
    {
      "cell_type": "code",
      "source": [
        "# wave model\n",
        "model1 = tf.keras.models.Sequential()\n",
        "\n",
        "#Adding input layer \n",
        "model1.add(tf.keras.layers.Dense(units=32, input_shape=[8], activation='relu'))\n",
        "# model1.add(tf.keras.layers.Dropout(0.1))\n",
        "\n",
        "#Adding hidden layer\n",
        "model1.add(tf.keras.layers.Dense(units=16, activation='relu'))\n",
        "model1.add(tf.keras.layers.Dropout(0.01))\n",
        "\n",
        "#Adding hidden layer\n",
        "model1.add(tf.keras.layers.Dense(units=8, activation='relu'))\n",
        "model1.add(tf.keras.layers.Dropout(0.01))\n",
        "\n",
        "# #Adding hidden layer\n",
        "# model1.add(tf.keras.layers.Dense(units=16, activation='relu'))\n",
        "# model1.add(tf.keras.layers.Dropout(0.01))\n",
        "\n",
        "# #Adding hidden layer\n",
        "# model1.add(tf.keras.layers.Dense(units=32, activation='relu'))\n",
        "# model1.add(tf.keras.layers.Dropout(0.01))\n",
        "\n",
        "# #Adding hidden layer\n",
        "# model1.add(tf.keras.layers.Dense(units=16, activation='relu'))\n",
        "# model1.add(tf.keras.layers.Dropout(0.01))\n",
        "\n",
        "\n",
        "# #Adding hidden layer\n",
        "# model1.add(tf.keras.layers.Dense(units=8, activation='relu'))\n",
        "# model1.add(tf.keras.layers.Dropout(0.01))\n",
        "\n",
        "\n",
        "#Adding hidden layer\n",
        "model1.add(tf.keras.layers.Dense(units=4, activation='relu'))\n",
        "model1.add(tf.keras.layers.Dropout(0.01))\n",
        "\n",
        "\n",
        "#Adding hidden layer Odd layer\n",
        "model1.add(tf.keras.layers.Dense(units=2, activation='relu'))\n",
        "model1.add(tf.keras.layers.Dropout(0.01))\n",
        "\n",
        "#Adding an output layer\n",
        "model1.add(tf.keras.layers.Dense(units=1))\n",
        "\n",
        "model1.compile(optimizer=tf.keras.optimizers.Adam(0.01), loss='mean_squared_error')"
      ],
      "metadata": {
        "id": "PfuKsc6PJWGM"
      },
      "execution_count": 163,
      "outputs": []
    },
    {
      "cell_type": "code",
      "source": [
        "var_num=6\n",
        "\n",
        "# Deep Model\n",
        "model1 = tf.keras.models.Sequential()\n",
        "\n",
        "#Adding input layer \n",
        "model1.add(tf.keras.layers.Dense(units=var_num, input_shape=[8], activation='relu'))\n",
        "# model1.add(tf.keras.layers.Dropout(0.1))\n",
        "\n",
        "#Adding hidden layer\n",
        "model1.add(tf.keras.layers.Dense(units=var_num, activation='relu'))\n",
        "model1.add(tf.keras.layers.Dropout(0.01))\n",
        "\n",
        "#Adding hidden layer\n",
        "model1.add(tf.keras.layers.Dense(units=var_num, activation='relu'))\n",
        "model1.add(tf.keras.layers.Dropout(0.01))\n",
        "\n",
        "#Adding hidden layer\n",
        "model1.add(tf.keras.layers.Dense(units=var_num, activation='relu'))\n",
        "model1.add(tf.keras.layers.Dropout(0.01))\n",
        "\n",
        "#Adding hidden layer\n",
        "model1.add(tf.keras.layers.Dense(units=var_num, activation='relu'))\n",
        "model1.add(tf.keras.layers.Dropout(0.01))\n",
        "\n",
        "#Adding hidden layer\n",
        "model1.add(tf.keras.layers.Dense(units=var_num, activation='relu'))\n",
        "model1.add(tf.keras.layers.Dropout(0.01))\n",
        "\n",
        "#Adding hidden layer\n",
        "model1.add(tf.keras.layers.Dense(units=var_num, activation='relu'))\n",
        "model1.add(tf.keras.layers.Dropout(0.01))\n",
        "\n",
        "#Adding hidden layer\n",
        "model1.add(tf.keras.layers.Dense(units=var_num, activation='relu'))\n",
        "model1.add(tf.keras.layers.Dropout(0.01))\n",
        "\n",
        "#Adding hidden layer\n",
        "model1.add(tf.keras.layers.Dense(units=var_num, activation='relu'))\n",
        "model1.add(tf.keras.layers.Dropout(0.01))\n",
        "\n",
        "#Adding hidden layer\n",
        "model1.add(tf.keras.layers.Dense(units=var_num, activation='relu'))\n",
        "model1.add(tf.keras.layers.Dropout(0.01))\n",
        "\n",
        "#Adding hidden layer\n",
        "model1.add(tf.keras.layers.Dense(units=var_num, activation='relu'))\n",
        "model1.add(tf.keras.layers.Dropout(0.01))\n",
        "\n",
        "#Adding hidden layer\n",
        "model1.add(tf.keras.layers.Dense(units=var_num/2, activation='relu'))\n",
        "model1.add(tf.keras.layers.Dropout(0.01))\n",
        "\n",
        "\n",
        "#Adding an output layer\n",
        "model1.add(tf.keras.layers.Dense(units=1))\n",
        "\n",
        "model1.compile(optimizer=tf.keras.optimizers.Adam(0.001), loss='mean_squared_error')"
      ],
      "metadata": {
        "id": "4jvO3kkN-Uur"
      },
      "execution_count": 150,
      "outputs": []
    },
    {
      "cell_type": "code",
      "source": [
        "model1.summary()\n",
        "#RMSprop\n"
      ],
      "metadata": {
        "id": "o56X2HTxQdvU"
      },
      "execution_count": null,
      "outputs": []
    },
    {
      "cell_type": "code",
      "source": [
        "r1 = model1.fit(X_train, y_train, validation_data=(X_test, y_test), epochs=100, verbose=0)\n",
        "\n",
        "# Evaluate the model, prints loss and accuracy\n",
        "print(\"Train score:\", model1.evaluate(X_train, y_train))\n",
        "print(\"Test score:\", model1.evaluate(X_test, y_test))\n",
        "\n",
        "# Plot the loss\n",
        "import matplotlib.pyplot as plt\n",
        "plt.plot(r1.history['loss'], label='loss')\n",
        "plt.plot(r1.history['val_loss'], label='val_loss')\n",
        "plt.legend()\n",
        "plt.show()\n",
        "\n",
        "\n",
        "from sklearn.metrics import r2_score\n",
        "y_true = np.array( [y_test] )\n",
        "\n",
        "y_pred = model1.predict(X_test)\n",
        "y_pred = [num for sublist in y_pred for num in sublist]\n",
        "r2_score(y_true[0], y_pred)"
      ],
      "metadata": {
        "id": "Gbq1_GWHNe78",
        "colab": {
          "base_uri": "https://localhost:8080/",
          "height": 363
        },
        "outputId": "9f5fb1e1-9af9-4013-b236-dcd778c906dd"
      },
      "execution_count": 164,
      "outputs": [
        {
          "output_type": "stream",
          "name": "stdout",
          "text": [
            "30/30 [==============================] - 0s 2ms/step - loss: 22293702.0000\n",
            "Train score: 22293702.0\n",
            "13/13 [==============================] - 0s 2ms/step - loss: 24011504.0000\n",
            "Test score: 24011504.0\n"
          ]
        },
        {
          "output_type": "display_data",
          "data": {
            "text/plain": [
              "<Figure size 432x288 with 1 Axes>"
            ],
            "image/png": "[encoded data removed]"
          },
          "metadata": {
            "needs_background": "light"
          }
        },
        {
          "output_type": "execute_result",
          "data": {
            "text/plain": [
              "0.8334983326112209"
            ]
          },
          "metadata": {},
          "execution_count": 164
        }
      ]
    },
    {
      "cell_type": "markdown",
      "source": [
        "The Adam optimizer appeared to have the best validation pattern; a deeper network did better than wider (many 6 node layers vs one big input (128) and halving nodes per layer until get to 1); also a \"wave\" like structure, going \"wide to narrow to wide to narrow\" doesn't appear to help as \"removing the wave\" and just going down performs better;"
      ],
      "metadata": {
        "id": "qNM7eDv7DKPa"
      }
    },
    {
      "cell_type": "code",
      "source": [
        "# model1.get_weights()"
      ],
      "metadata": {
        "id": "CbSjw0X_0sko"
      },
      "execution_count": 159,
      "outputs": []
    },
    {
      "cell_type": "markdown",
      "source": [
        "<h1>performance review</h1>"
      ],
      "metadata": {
        "id": "KgFrKTeKliAI"
      }
    },
    {
      "cell_type": "code",
      "source": [
        "from sklearn.metrics import r2_score\n",
        "\n",
        "y_true = np.array( [y_test] )"
      ],
      "metadata": {
        "id": "3549CbFnn0x4"
      },
      "execution_count": 34,
      "outputs": []
    },
    {
      "cell_type": "code",
      "source": [
        "y_pred = model1.predict(X_test)\n",
        "y_pred = [num for sublist in y_pred for num in sublist]\n",
        "r2_score(y_true[0], y_pred)"
      ],
      "metadata": {
        "colab": {
          "base_uri": "https://localhost:8080/"
        },
        "id": "QX3gRcigtbxl",
        "outputId": "c866b43c-69a7-4da1-87e6-c66226447c1f"
      },
      "execution_count": 35,
      "outputs": [
        {
          "output_type": "execute_result",
          "data": {
            "text/plain": [
              "-1.1020880066337657"
            ]
          },
          "metadata": {},
          "execution_count": 35
        }
      ]
    },
    {
      "cell_type": "markdown",
      "source": [
        "<h1> Part Two</h1>\n",
        "<span>In class, we worked on the customers.csv dataset and trained a NN with 2 hidden layers (with relu) and one unit output \n",
        "layer (with sigmoid). Use that model to perform prediction on the following customer:   <br>\n",
        "Credit Score: 600   <br>\n",
        "Geography: France  <br>\n",
        "Gender: Male  <br>\n",
        "Age: 40 years old <br> \n",
        "Tenure: 3 years  <br>\n",
        "Balance: \\$60000 <br>\n",
        "Number of Products: 2  <br>\n",
        "Does this customer have a credit card ? Yes  <br>\n",
        "Is this customer an Active Member: Yes  <br>\n",
        "Estimated Salary: $50000  </span>"
      ],
      "metadata": {
        "id": "7jd1MpE7BsGL"
      }
    },
    {
      "cell_type": "code",
      "source": [
        "url = \"https://raw.githubusercontent.com/crjohnson09/SEIS764/main/customers.csv\"\n",
        "dataset = pd.read_csv(url)"
      ],
      "metadata": {
        "id": "uQuI2XMIBwhK"
      },
      "execution_count": 16,
      "outputs": []
    },
    {
      "cell_type": "code",
      "source": [
        "X = dataset.iloc[:,3:13].values\n",
        "y = dataset.iloc[:,13].values\n",
        "print(X[0])\n",
        "print(len(X[0]))\n",
        "# print(X)\n",
        "# print(y)\n",
        "\n",
        "# Encoding categorical data\n",
        "# Encoding the Independent Variable\n",
        "from sklearn.preprocessing import LabelEncoder, OneHotEncoder\n",
        "#Label Encoding Gender\n",
        "labelencoder_X = LabelEncoder()\n",
        "X[:, 2] = labelencoder_X.fit_transform(X[:, 2])\n",
        "print(X[0])\n",
        "print(len(X[0]))\n",
        "#Dealing with the categorical Geography column\n",
        "from sklearn.compose import make_column_transformer\n",
        "onehotencoder = make_column_transformer((OneHotEncoder(), [1]), \n",
        "remainder='passthrough')\n",
        "X = onehotencoder.fit_transform(X)\n",
        "#Removing the extra dummy variable\n",
        "X = X[:, 1:]\n",
        "print(X[0])\n",
        "print(len(X[0]))\n",
        "\n",
        "#Splitting the data into Training Set and Test Set\n",
        "from sklearn.model_selection import train_test_split\n",
        "X_train, X_test, y_train, y_test = train_test_split(X,y,test_size=0.2)\n",
        "#Normalizing the features\n",
        "from sklearn.preprocessing import StandardScaler\n",
        "sc_X = StandardScaler()\n",
        "X_train = sc_X.fit_transform(X_train)\n",
        "X_test = sc_X.transform(X_test)\n",
        "\n",
        "print(X_train[0])\n",
        "print(len(X_train[0]))"
      ],
      "metadata": {
        "colab": {
          "base_uri": "https://localhost:8080/"
        },
        "id": "XTVdJDNPBsTa",
        "outputId": "b7714c06-4d47-4aae-e71f-c6e98847fd95"
      },
      "execution_count": 66,
      "outputs": [
        {
          "output_type": "stream",
          "name": "stdout",
          "text": [
            "[619 'France' 'Female' 42 2 0.0 1 1 1 101348.88]\n",
            "10\n",
            "[619 'France' 0 42 2 0.0 1 1 1 101348.88]\n",
            "10\n",
            "[0.0 0.0 619 0 42 2 0.0 1 1 1 101348.88]\n",
            "11\n",
            "[-0.57715782 -0.57523331 -2.27010736  0.90659167 -0.18483345 -1.7326102\n",
            "  0.70420559 -0.91070619  0.64589732  0.96776914  0.29474901]\n",
            "11\n"
          ]
        }
      ]
    },
    {
      "cell_type": "code",
      "source": [
        "#ran once to find best param\n",
        "\n",
        "# !pip install scikeras[tensorflow]\n",
        "# #Hyperparameter tuning of Neural Network\n",
        "# from scikeras.wrappers import KerasClassifier\n",
        "# from sklearn.model_selection import GridSearchCV\n",
        "# def buildNN():\n",
        "#     model = tf.keras.models.Sequential()\n",
        "#     model.add(tf.keras.layers.Dense(units=6, input_shape=[11], activation='relu'))\n",
        "#     model.add(tf.keras.layers.Dropout(0.1))\n",
        "#     model.add(tf.keras.layers.Dense(units=6, activation='relu'))\n",
        "#     model.add(tf.keras.layers.Dropout(0.1))\n",
        "#     model.add(tf.keras.layers.Dense(units=1, activation='sigmoid'))\n",
        "#     model.compile(loss='binary_crossentropy', metrics=['accuracy'])\n",
        "#     return model\n",
        "# classifier = KerasClassifier(model = buildNN)\n",
        "# parameters = {'batch_size':[25,32], 'epochs':[10,15], 'optimizer':\n",
        "# ['adam','rmsprop']}\n",
        "# grid_search = GridSearchCV(estimator =classifier, param_grid=parameters, \n",
        "# scoring='accuracy', cv=10)\n",
        "# grid_search = grid_search.fit(X_train, y_train)\n",
        "# best_param = grid_search.best_params_\n",
        "# best_acc=grid_search.best_score_\n",
        "# print(best_param)\n",
        "# print(best_acc)"
      ],
      "metadata": {
        "id": "mkwGVcOth1FI"
      },
      "execution_count": null,
      "outputs": []
    },
    {
      "cell_type": "code",
      "source": [
        "# Define the model\n",
        "model2 = tf.keras.models.Sequential()\n",
        "\n",
        "#Adding a first layer \n",
        "model2.add(tf.keras.layers.Dense(units=6, input_shape=[11], activation='relu'))\n",
        "model2.add(tf.keras.layers.Dropout(0.1))\n",
        "\n",
        "#Adding a second hidden layer\n",
        "model2.add(tf.keras.layers.Dense(units=6, activation='relu'))\n",
        "model2.add(tf.keras.layers.Dropout(0.1))\n",
        "\n",
        "#Adding an output layer\n",
        "model2.add(tf.keras.layers.Dense(units=1, activation='sigmoid'))\n",
        "\n",
        "model2.compile(optimizer='rmsprop',\n",
        "              loss='binary_crossentropy',\n",
        "              metrics=['accuracy'])"
      ],
      "metadata": {
        "id": "Lo9ThAVoEUHp"
      },
      "execution_count": 22,
      "outputs": []
    },
    {
      "cell_type": "code",
      "source": [
        "# Train the model\n",
        "r2 = model2.fit(X_train, y_train, validation_data=(X_test, y_test), epochs=15, verbose=0,batch_size=25)"
      ],
      "metadata": {
        "id": "WPtXbpfoEW1i"
      },
      "execution_count": 24,
      "outputs": []
    },
    {
      "cell_type": "code",
      "source": [
        "# Evaluate the model, prints loss and accuracy\n",
        "print(\"Train score:\", model2.evaluate(X_train, y_train))\n",
        "print(\"Test score:\", model2.evaluate(X_test, y_test))\n",
        "\n",
        "# Plot the loss\n",
        "import matplotlib.pyplot as plt\n",
        "plt.plot(r2.history['loss'], label='loss')\n",
        "plt.plot(r2.history['val_loss'], label='val_loss')\n",
        "plt.legend()\n",
        "plt.show()\n",
        "\n",
        "# Plot the accuracy \n",
        "plt.plot(r2.history['accuracy'], label='acc')\n",
        "plt.plot(r2.history['val_accuracy'], label='val_acc')\n",
        "plt.legend()\n",
        "plt.show()"
      ],
      "metadata": {
        "id": "sRpdJ0SdDs8q"
      },
      "execution_count": null,
      "outputs": []
    },
    {
      "cell_type": "code",
      "source": [
        "#create record to predict against\n",
        "sample1=[600,\"France\",\"Male\",40,3,60000,2,1,1,50000]\n",
        "#labels\n",
        "sample1[2] = labelencoder_X.transform([sample1[2],])[0]\n",
        "#onehot\n",
        "sample1 = onehotencoder.transform([sample1,])[0]\n",
        "#drop extra\n",
        "sample1=sample1[1:]\n",
        "#normalize\n",
        "sample1=sc_X.transform([sample1,])\n",
        "print(sample1)\n",
        "print(X_test[4])"
      ],
      "metadata": {
        "colab": {
          "base_uri": "https://localhost:8080/"
        },
        "id": "k--XacgQTtX4",
        "outputId": "ab18ed4d-75d2-422f-8150-b35c59f333f1"
      },
      "execution_count": 35,
      "outputs": [
        {
          "output_type": "stream",
          "name": "stdout",
          "text": [
            "[[-0.57484841 -0.57792762 -0.52334318  0.91301738  0.10126171 -0.70240781\n",
            "  -0.263704    0.81360162  0.64764683  0.96922337 -0.86874239]]\n",
            "[-0.57484841 -0.57792762  0.60490296 -1.0952694   0.10126171  1.37918599\n",
            "  0.87887049 -0.9110441   0.64764683  0.96922337  0.06994988]\n"
          ]
        }
      ]
    },
    {
      "cell_type": "code",
      "source": [
        "#result\n",
        "np.round(model2.predict([sample1,])).flatten()"
      ],
      "metadata": {
        "colab": {
          "base_uri": "https://localhost:8080/"
        },
        "id": "aRuE3peqIUxS",
        "outputId": "65f58893-2cf0-491c-f633-d932ce50ead4"
      },
      "execution_count": 58,
      "outputs": [
        {
          "output_type": "execute_result",
          "data": {
            "text/plain": [
              "array([0.], dtype=float32)"
            ]
          },
          "metadata": {},
          "execution_count": 58
        }
      ]
    },
    {
      "cell_type": "code",
      "source": [
        "sample2=np.array([list(X_test[4])])\n",
        "print(\"input data \",sample2[0])\n",
        "\n",
        "#read original input\n",
        "mylist=[round(item, 2) for item in sc_X.inverse_transform([sample2][0])[0]]\n",
        "print(\"original data \", mylist)\n",
        "\n",
        "#should be class 1\n",
        "print(\"class: \",np.round(model2.predict([sample2,])))"
      ],
      "metadata": {
        "colab": {
          "base_uri": "https://localhost:8080/"
        },
        "id": "Jecves8qYDzX",
        "outputId": "f5e77a9a-7d29-4fe4-c3bf-c810702e3f24"
      },
      "execution_count": 65,
      "outputs": [
        {
          "output_type": "stream",
          "name": "stdout",
          "text": [
            "input data  [-0.58293145  1.73320628 -0.48691364 -1.09251259 -0.46587306 -0.7016056\n",
            " -1.23072471  0.81976357  0.64706357 -1.03330429 -1.06626636]\n",
            "original data  [0.0, 1.0, 604.0, 0.0, 34.0, 3.0, 0.0, 2.0, 1.0, 0.0, 38587.7]\n",
            "class:  [[0.]]\n"
          ]
        }
      ]
    },
    {
      "cell_type": "code",
      "source": [
        "y_pred=np.round(model2.predict(X_test[0:100])).flatten()\n",
        "print(y_pred)"
      ],
      "metadata": {
        "colab": {
          "base_uri": "https://localhost:8080/"
        },
        "id": "gTjcH2j6pSbg",
        "outputId": "5cfb0707-5801-4302-c2c1-162f80557e3b"
      },
      "execution_count": 60,
      "outputs": [
        {
          "output_type": "stream",
          "name": "stdout",
          "text": [
            "[0. 0. 0. 0. 0. 0. 0. 0. 0. 0. 0. 0. 0. 0. 0. 0. 0. 0. 0. 0. 0. 0. 0. 0.\n",
            " 0. 0. 0. 0. 0. 0. 0. 0. 0. 0. 1. 0. 0. 0. 0. 0. 0. 0. 1. 1. 0. 0. 0. 0.\n",
            " 0. 0. 0. 0. 0. 0. 0. 0. 0. 1. 0. 0. 0. 0. 1. 0. 0. 0. 0. 0. 0. 0. 0. 0.\n",
            " 0. 0. 0. 0. 0. 1. 0. 0. 0. 1. 1. 0. 0. 0. 0. 0. 0. 0. 0. 0. 0. 0. 0. 0.\n",
            " 0. 0. 0. 1.]\n"
          ]
        }
      ]
    },
    {
      "cell_type": "code",
      "source": [
        "y_test[0:100]"
      ],
      "metadata": {
        "colab": {
          "base_uri": "https://localhost:8080/"
        },
        "id": "hKbvhurtrPDp",
        "outputId": "4c4630be-b642-458c-cf21-0e32704531c9"
      },
      "execution_count": 61,
      "outputs": [
        {
          "output_type": "execute_result",
          "data": {
            "text/plain": [
              "array([1, 1, 0, 0, 0, 0, 0, 0, 1, 0, 0, 0, 0, 0, 0, 0, 0, 0, 0, 1, 0, 0,\n",
              "       0, 0, 0, 0, 0, 0, 1, 0, 0, 0, 0, 0, 1, 0, 0, 0, 0, 1, 0, 1, 1, 1,\n",
              "       0, 0, 0, 0, 0, 0, 0, 1, 0, 0, 0, 0, 0, 1, 0, 1, 0, 0, 1, 0, 0, 0,\n",
              "       0, 0, 0, 0, 0, 0, 0, 1, 0, 0, 0, 1, 1, 0, 0, 0, 0, 0, 1, 0, 0, 0,\n",
              "       0, 0, 0, 0, 1, 0, 0, 0, 0, 0, 0, 0])"
            ]
          },
          "metadata": {},
          "execution_count": 61
        }
      ]
    },
    {
      "cell_type": "markdown",
      "source": [
        "<h1> Part three</h1>\n",
        "<span>....<br>\n",
        "Build a deep NN to get the best classification performance on the dataset (70-30 train-test split). You should be trying \n",
        "out different architectures of the NN before settling on the best one. Explain the results while comparing the different \n",
        "models. </span>"
      ],
      "metadata": {
        "id": "-hVbid06fKe_"
      }
    },
    {
      "cell_type": "code",
      "source": [
        "url = \"https://raw.githubusercontent.com/crjohnson09/SEIS764/main/onlineStore.csv\"\n",
        "dataset = pd.read_csv(url)"
      ],
      "metadata": {
        "id": "FWngT5b1famX"
      },
      "execution_count": null,
      "outputs": []
    },
    {
      "cell_type": "code",
      "source": [
        "dataset"
      ],
      "metadata": {
        "id": "A6CtEHy-fkpn"
      },
      "execution_count": null,
      "outputs": []
    },
    {
      "cell_type": "code",
      "source": [
        "dataset.time_of_day.unique()"
      ],
      "metadata": {
        "id": "_u3DLcFajlex"
      },
      "execution_count": null,
      "outputs": []
    },
    {
      "cell_type": "code",
      "source": [
        "X = dataset.iloc[:,:5].values\n",
        "y = dataset.iloc[:,5].values"
      ],
      "metadata": {
        "id": "fWp2fVSfgdoo"
      },
      "execution_count": null,
      "outputs": []
    },
    {
      "cell_type": "code",
      "source": [],
      "metadata": {
        "id": "7Yp97WmZi38u"
      },
      "execution_count": null,
      "outputs": []
    },
    {
      "cell_type": "code",
      "source": [
        "#one hot time\n",
        "# from sklearn.compose import make_column_transformer\n",
        "# onehotencoder2 = make_column_transformer((OneHotEncoder(), [1]), \n",
        "# remainder='passthrough')\n",
        "# X.time_of_day = onehotencoder2.fit_transform(X.time_of_day)\n",
        "# #Removing the extra dummy variable\n",
        "# X = X[:, 1:]\n",
        "print(X[0])\n",
        "onehotencoder2 = make_column_transformer((OneHotEncoder(), [4]), \n",
        "remainder='passthrough')\n",
        "X = onehotencoder2.fit_transform(X)\n",
        "\n",
        "print(X[0])\n"
      ],
      "metadata": {
        "id": "CfJmAaGGh6IY"
      },
      "execution_count": null,
      "outputs": []
    },
    {
      "cell_type": "code",
      "source": [
        "#one hot time\n",
        "from sklearn.compose import make_column_transformer\n",
        "onehotencoder2 = make_column_transformer((OneHotEncoder(), [1]), \n",
        "remainder='passthrough')\n",
        "X.time_of_day = onehotencoder2.fit_transform(X.time_of_day)\n",
        "#Removing the extra dummy variable\n",
        "X = X[:, 1:]\n",
        "print(X[0])\n",
        "print(len(X[0]))\n",
        "#Splitting the data into Training Set and Test Set\n",
        "from sklearn.model_selection import train_test_split\n",
        "X_train, X_test, y_train, y_test = train_test_split(X,y,test_size=0.3)\n",
        "#Normalizing the features\n",
        "from sklearn.preprocessing import StandardScaler\n",
        "sc_X = StandardScaler()\n",
        "X_train = sc_X.fit_transform(X_train)\n",
        "X_test = sc_X.transform(X_test)"
      ],
      "metadata": {
        "id": "GPk3uAutfhXv"
      },
      "execution_count": null,
      "outputs": []
    },
    {
      "cell_type": "code",
      "source": [
        "# %%shell\n",
        "# jupyter nbconvert \"/content/Assignment2copy.ipynb\""
      ],
      "metadata": {
        "id": "v4NIn28U38sN"
      },
      "execution_count": null,
      "outputs": []
    }
  ]
}