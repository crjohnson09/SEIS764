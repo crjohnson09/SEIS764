{
  "nbformat": 4,
  "nbformat_minor": 0,
  "metadata": {
    "colab": {
      "provenance": [],
      "collapsed_sections": [],
      "authorship_tag": "ABX9TyOcToRss0Dja9gx5UmmJWZP",
      "include_colab_link": true
    },
    "kernelspec": {
      "name": "python3",
      "display_name": "Python 3"
    },
    "language_info": {
      "name": "python"
    },
    "accelerator": "GPU",
    "gpuClass": "standard"
  },
  "cells": [
    {
      "cell_type": "markdown",
      "metadata": {
        "id": "view-in-github",
        "colab_type": "text"
      },
      "source": [
        "<a href=\"https://colab.research.google.com/github/crjohnson09/SEIS764/blob/main/Assignment4.ipynb\" target=\"_parent\"><img src=\"https://colab.research.google.com/assets/colab-badge.svg\" alt=\"Open In Colab\"/></a>"
      ]
    },
    {
      "cell_type": "markdown",
      "source": [
        "Colton Johnson <br>\n",
        "SEIS 764-02"
      ],
      "metadata": {
        "id": "cGherPyF7KhK"
      }
    },
    {
      "cell_type": "code",
      "source": [
        "import pandas as pd\n",
        "import tensorflow as tf\n",
        "import numpy as np\n",
        "from tensorflow import keras\n",
        "import matplotlib.pyplot as plt"
      ],
      "metadata": {
        "id": "31vNHneFTH-1"
      },
      "execution_count": null,
      "outputs": []
    },
    {
      "cell_type": "code",
      "source": [
        "url = \"https://raw.githubusercontent.com/crjohnson09/SEIS764/main/insurance%20(1).csv\"\n",
        "df = pd.read_csv(url)\n",
        "# Dataset is now stored in a Pandas Dataframe"
      ],
      "metadata": {
        "id": "oVByzLCwkvFN"
      },
      "execution_count": null,
      "outputs": []
    },
    {
      "cell_type": "code",
      "execution_count": null,
      "metadata": {
        "colab": {
          "base_uri": "https://localhost:8080/"
        },
        "id": "q_n_PtGdQnaH",
        "outputId": "5e519163-69d5-4aed-82e2-ce066c4286ab"
      },
      "outputs": [
        {
          "output_type": "stream",
          "name": "stdout",
          "text": [
            "Drive already mounted at /content/gdrive; to attempt to forcibly remount, call drive.mount(\"/content/gdrive\", force_remount=True).\n"
          ]
        }
      ],
      "source": [
        "# from google.colab import drive\n",
        "# drive.mount(\"/content/gdrive\")\n",
        "# path = \"gdrive/MyDrive/AI Class/\""
      ]
    },
    {
      "cell_type": "code",
      "source": [
        "# df = pd.read_csv(path+\"insurance.csv\")"
      ],
      "metadata": {
        "id": "BD6EAssu1Vq8"
      },
      "execution_count": null,
      "outputs": []
    },
    {
      "cell_type": "markdown",
      "source": [
        "1) Load the dataset and print how many data instances and columns we have. "
      ],
      "metadata": {
        "id": "ZVhQDumy1ysj"
      }
    },
    {
      "cell_type": "code",
      "source": [
        "df.shape"
      ],
      "metadata": {
        "colab": {
          "base_uri": "https://localhost:8080/"
        },
        "id": "FqSNp8k_1wFE",
        "outputId": "05e52c1d-b9a2-4325-c7c7-73b9e14bf747"
      },
      "execution_count": null,
      "outputs": [
        {
          "output_type": "execute_result",
          "data": {
            "text/plain": [
              "(1338, 7)"
            ]
          },
          "metadata": {},
          "execution_count": 13
        }
      ]
    },
    {
      "cell_type": "markdown",
      "source": [
        "2) Print if there are any missing values in any of the columns."
      ],
      "metadata": {
        "id": "6TlGfy0i120r"
      }
    },
    {
      "cell_type": "code",
      "source": [
        "df[df.isna().any(axis=1)]"
      ],
      "metadata": {
        "colab": {
          "base_uri": "https://localhost:8080/",
          "height": 49
        },
        "id": "o3q1i28T16p0",
        "outputId": "18e33eb1-97be-45eb-8535-66d5cb56fba5"
      },
      "execution_count": null,
      "outputs": [
        {
          "output_type": "execute_result",
          "data": {
            "text/plain": [
              "Empty DataFrame\n",
              "Columns: [age, sex, bmi, children, smoker, region, charges]\n",
              "Index: []"
            ],
            "text/html": [
              "\n",
              "  <div id=\"df-ecabd4db-3e4d-4155-a5ad-827a7f2143cc\">\n",
              "    <div class=\"colab-df-container\">\n",
              "      <div>\n",
              "<style scoped>\n",
              "    .dataframe tbody tr th:only-of-type {\n",
              "        vertical-align: middle;\n",
              "    }\n",
              "\n",
              "    .dataframe tbody tr th {\n",
              "        vertical-align: top;\n",
              "    }\n",
              "\n",
              "    .dataframe thead th {\n",
              "        text-align: right;\n",
              "    }\n",
              "</style>\n",
              "<table border=\"1\" class=\"dataframe\">\n",
              "  <thead>\n",
              "    <tr style=\"text-align: right;\">\n",
              "      <th></th>\n",
              "      <th>age</th>\n",
              "      <th>sex</th>\n",
              "      <th>bmi</th>\n",
              "      <th>children</th>\n",
              "      <th>smoker</th>\n",
              "      <th>region</th>\n",
              "      <th>charges</th>\n",
              "    </tr>\n",
              "  </thead>\n",
              "  <tbody>\n",
              "  </tbody>\n",
              "</table>\n",
              "</div>\n",
              "      <button class=\"colab-df-convert\" onclick=\"convertToInteractive('df-ecabd4db-3e4d-4155-a5ad-827a7f2143cc')\"\n",
              "              title=\"Convert this dataframe to an interactive table.\"\n",
              "              style=\"display:none;\">\n",
              "        \n",
              "  <svg xmlns=\"http://www.w3.org/2000/svg\" height=\"24px\"viewBox=\"0 0 24 24\"\n",
              "       width=\"24px\">\n",
              "    <path d=\"M0 0h24v24H0V0z\" fill=\"none\"/>\n",
              "    <path d=\"M18.56 5.44l.94 2.06.94-2.06 2.06-.94-2.06-.94-.94-2.06-.94 2.06-2.06.94zm-11 1L8.5 8.5l.94-2.06 2.06-.94-2.06-.94L8.5 2.5l-.94 2.06-2.06.94zm10 10l.94 2.06.94-2.06 2.06-.94-2.06-.94-.94-2.06-.94 2.06-2.06.94z\"/><path d=\"M17.41 7.96l-1.37-1.37c-.4-.4-.92-.59-1.43-.59-.52 0-1.04.2-1.43.59L10.3 9.45l-7.72 7.72c-.78.78-.78 2.05 0 2.83L4 21.41c.39.39.9.59 1.41.59.51 0 1.02-.2 1.41-.59l7.78-7.78 2.81-2.81c.8-.78.8-2.07 0-2.86zM5.41 20L4 18.59l7.72-7.72 1.47 1.35L5.41 20z\"/>\n",
              "  </svg>\n",
              "      </button>\n",
              "      \n",
              "  <style>\n",
              "    .colab-df-container {\n",
              "      display:flex;\n",
              "      flex-wrap:wrap;\n",
              "      gap: 12px;\n",
              "    }\n",
              "\n",
              "    .colab-df-convert {\n",
              "      background-color: #E8F0FE;\n",
              "      border: none;\n",
              "      border-radius: 50%;\n",
              "      cursor: pointer;\n",
              "      display: none;\n",
              "      fill: #1967D2;\n",
              "      height: 32px;\n",
              "      padding: 0 0 0 0;\n",
              "      width: 32px;\n",
              "    }\n",
              "\n",
              "    .colab-df-convert:hover {\n",
              "      background-color: #E2EBFA;\n",
              "      box-shadow: 0px 1px 2px rgba(60, 64, 67, 0.3), 0px 1px 3px 1px rgba(60, 64, 67, 0.15);\n",
              "      fill: #174EA6;\n",
              "    }\n",
              "\n",
              "    [theme=dark] .colab-df-convert {\n",
              "      background-color: #3B4455;\n",
              "      fill: #D2E3FC;\n",
              "    }\n",
              "\n",
              "    [theme=dark] .colab-df-convert:hover {\n",
              "      background-color: #434B5C;\n",
              "      box-shadow: 0px 1px 3px 1px rgba(0, 0, 0, 0.15);\n",
              "      filter: drop-shadow(0px 1px 2px rgba(0, 0, 0, 0.3));\n",
              "      fill: #FFFFFF;\n",
              "    }\n",
              "  </style>\n",
              "\n",
              "      <script>\n",
              "        const buttonEl =\n",
              "          document.querySelector('#df-ecabd4db-3e4d-4155-a5ad-827a7f2143cc button.colab-df-convert');\n",
              "        buttonEl.style.display =\n",
              "          google.colab.kernel.accessAllowed ? 'block' : 'none';\n",
              "\n",
              "        async function convertToInteractive(key) {\n",
              "          const element = document.querySelector('#df-ecabd4db-3e4d-4155-a5ad-827a7f2143cc');\n",
              "          const dataTable =\n",
              "            await google.colab.kernel.invokeFunction('convertToInteractive',\n",
              "                                                     [key], {});\n",
              "          if (!dataTable) return;\n",
              "\n",
              "          const docLinkHtml = 'Like what you see? Visit the ' +\n",
              "            '<a target=\"_blank\" href=https://colab.research.google.com/notebooks/data_table.ipynb>data table notebook</a>'\n",
              "            + ' to learn more about interactive tables.';\n",
              "          element.innerHTML = '';\n",
              "          dataTable['output_type'] = 'display_data';\n",
              "          await google.colab.output.renderOutput(dataTable, element);\n",
              "          const docLink = document.createElement('div');\n",
              "          docLink.innerHTML = docLinkHtml;\n",
              "          element.appendChild(docLink);\n",
              "        }\n",
              "      </script>\n",
              "    </div>\n",
              "  </div>\n",
              "  "
            ]
          },
          "metadata": {},
          "execution_count": 5
        }
      ]
    },
    {
      "cell_type": "markdown",
      "source": [
        "\n",
        "3) Print any duplicate rows and delete them if they are available. "
      ],
      "metadata": {
        "id": "gUtKLzSk2Zpc"
      }
    },
    {
      "cell_type": "code",
      "source": [
        "print(df[df.duplicated()])\n",
        "## appears to be 581\n",
        "df =df[~df.duplicated(keep='last')].reset_index(drop=True)\n",
        "df.shape"
      ],
      "metadata": {
        "colab": {
          "base_uri": "https://localhost:8080/"
        },
        "id": "c3xyxngI2diD",
        "outputId": "584a96a2-5357-4caf-87c9-14ec4f5a3218"
      },
      "execution_count": null,
      "outputs": [
        {
          "output_type": "stream",
          "name": "stdout",
          "text": [
            "     age   sex    bmi  children smoker     region    charges\n",
            "581   19  male  30.59         0     no  northwest  1639.5631\n"
          ]
        },
        {
          "output_type": "execute_result",
          "data": {
            "text/plain": [
              "(1337, 7)"
            ]
          },
          "metadata": {},
          "execution_count": 6
        }
      ]
    },
    {
      "cell_type": "markdown",
      "source": [
        "3B) Get Dummies"
      ],
      "metadata": {
        "id": "GW9k0ZuK30N7"
      }
    },
    {
      "cell_type": "code",
      "source": [
        "cata=df.select_dtypes(\"object\")\n",
        "dummies = pd.get_dummies(cata,drop_first=True) # first class is also dropped\n",
        "\n",
        "df = pd.concat([df,dummies], axis=1)\n",
        "df.head()"
      ],
      "metadata": {
        "colab": {
          "base_uri": "https://localhost:8080/",
          "height": 206
        },
        "id": "Is5nl_Y73qur",
        "outputId": "751308f9-dd6c-4a8b-f8ab-2b6bcce9d373"
      },
      "execution_count": null,
      "outputs": [
        {
          "output_type": "execute_result",
          "data": {
            "text/plain": [
              "   age     sex     bmi  children smoker     region      charges  sex_male  \\\n",
              "0   19  female  27.900         0    yes  southwest  16884.92400         0   \n",
              "1   18    male  33.770         1     no  southeast   1725.55230         1   \n",
              "2   28    male  33.000         3     no  southeast   4449.46200         1   \n",
              "3   33    male  22.705         0     no  northwest  21984.47061         1   \n",
              "4   32    male  28.880         0     no  northwest   3866.85520         1   \n",
              "\n",
              "   smoker_yes  region_northwest  region_southeast  region_southwest  \n",
              "0           1                 0                 0                 1  \n",
              "1           0                 0                 1                 0  \n",
              "2           0                 0                 1                 0  \n",
              "3           0                 1                 0                 0  \n",
              "4           0                 1                 0                 0  "
            ],
            "text/html": [
              "\n",
              "  <div id=\"df-5ab12c7a-91cf-460e-9f50-07c4291f4def\">\n",
              "    <div class=\"colab-df-container\">\n",
              "      <div>\n",
              "<style scoped>\n",
              "    .dataframe tbody tr th:only-of-type {\n",
              "        vertical-align: middle;\n",
              "    }\n",
              "\n",
              "    .dataframe tbody tr th {\n",
              "        vertical-align: top;\n",
              "    }\n",
              "\n",
              "    .dataframe thead th {\n",
              "        text-align: right;\n",
              "    }\n",
              "</style>\n",
              "<table border=\"1\" class=\"dataframe\">\n",
              "  <thead>\n",
              "    <tr style=\"text-align: right;\">\n",
              "      <th></th>\n",
              "      <th>age</th>\n",
              "      <th>sex</th>\n",
              "      <th>bmi</th>\n",
              "      <th>children</th>\n",
              "      <th>smoker</th>\n",
              "      <th>region</th>\n",
              "      <th>charges</th>\n",
              "      <th>sex_male</th>\n",
              "      <th>smoker_yes</th>\n",
              "      <th>region_northwest</th>\n",
              "      <th>region_southeast</th>\n",
              "      <th>region_southwest</th>\n",
              "    </tr>\n",
              "  </thead>\n",
              "  <tbody>\n",
              "    <tr>\n",
              "      <th>0</th>\n",
              "      <td>19</td>\n",
              "      <td>female</td>\n",
              "      <td>27.900</td>\n",
              "      <td>0</td>\n",
              "      <td>yes</td>\n",
              "      <td>southwest</td>\n",
              "      <td>16884.92400</td>\n",
              "      <td>0</td>\n",
              "      <td>1</td>\n",
              "      <td>0</td>\n",
              "      <td>0</td>\n",
              "      <td>1</td>\n",
              "    </tr>\n",
              "    <tr>\n",
              "      <th>1</th>\n",
              "      <td>18</td>\n",
              "      <td>male</td>\n",
              "      <td>33.770</td>\n",
              "      <td>1</td>\n",
              "      <td>no</td>\n",
              "      <td>southeast</td>\n",
              "      <td>1725.55230</td>\n",
              "      <td>1</td>\n",
              "      <td>0</td>\n",
              "      <td>0</td>\n",
              "      <td>1</td>\n",
              "      <td>0</td>\n",
              "    </tr>\n",
              "    <tr>\n",
              "      <th>2</th>\n",
              "      <td>28</td>\n",
              "      <td>male</td>\n",
              "      <td>33.000</td>\n",
              "      <td>3</td>\n",
              "      <td>no</td>\n",
              "      <td>southeast</td>\n",
              "      <td>4449.46200</td>\n",
              "      <td>1</td>\n",
              "      <td>0</td>\n",
              "      <td>0</td>\n",
              "      <td>1</td>\n",
              "      <td>0</td>\n",
              "    </tr>\n",
              "    <tr>\n",
              "      <th>3</th>\n",
              "      <td>33</td>\n",
              "      <td>male</td>\n",
              "      <td>22.705</td>\n",
              "      <td>0</td>\n",
              "      <td>no</td>\n",
              "      <td>northwest</td>\n",
              "      <td>21984.47061</td>\n",
              "      <td>1</td>\n",
              "      <td>0</td>\n",
              "      <td>1</td>\n",
              "      <td>0</td>\n",
              "      <td>0</td>\n",
              "    </tr>\n",
              "    <tr>\n",
              "      <th>4</th>\n",
              "      <td>32</td>\n",
              "      <td>male</td>\n",
              "      <td>28.880</td>\n",
              "      <td>0</td>\n",
              "      <td>no</td>\n",
              "      <td>northwest</td>\n",
              "      <td>3866.85520</td>\n",
              "      <td>1</td>\n",
              "      <td>0</td>\n",
              "      <td>1</td>\n",
              "      <td>0</td>\n",
              "      <td>0</td>\n",
              "    </tr>\n",
              "  </tbody>\n",
              "</table>\n",
              "</div>\n",
              "      <button class=\"colab-df-convert\" onclick=\"convertToInteractive('df-5ab12c7a-91cf-460e-9f50-07c4291f4def')\"\n",
              "              title=\"Convert this dataframe to an interactive table.\"\n",
              "              style=\"display:none;\">\n",
              "        \n",
              "  <svg xmlns=\"http://www.w3.org/2000/svg\" height=\"24px\"viewBox=\"0 0 24 24\"\n",
              "       width=\"24px\">\n",
              "    <path d=\"M0 0h24v24H0V0z\" fill=\"none\"/>\n",
              "    <path d=\"M18.56 5.44l.94 2.06.94-2.06 2.06-.94-2.06-.94-.94-2.06-.94 2.06-2.06.94zm-11 1L8.5 8.5l.94-2.06 2.06-.94-2.06-.94L8.5 2.5l-.94 2.06-2.06.94zm10 10l.94 2.06.94-2.06 2.06-.94-2.06-.94-.94-2.06-.94 2.06-2.06.94z\"/><path d=\"M17.41 7.96l-1.37-1.37c-.4-.4-.92-.59-1.43-.59-.52 0-1.04.2-1.43.59L10.3 9.45l-7.72 7.72c-.78.78-.78 2.05 0 2.83L4 21.41c.39.39.9.59 1.41.59.51 0 1.02-.2 1.41-.59l7.78-7.78 2.81-2.81c.8-.78.8-2.07 0-2.86zM5.41 20L4 18.59l7.72-7.72 1.47 1.35L5.41 20z\"/>\n",
              "  </svg>\n",
              "      </button>\n",
              "      \n",
              "  <style>\n",
              "    .colab-df-container {\n",
              "      display:flex;\n",
              "      flex-wrap:wrap;\n",
              "      gap: 12px;\n",
              "    }\n",
              "\n",
              "    .colab-df-convert {\n",
              "      background-color: #E8F0FE;\n",
              "      border: none;\n",
              "      border-radius: 50%;\n",
              "      cursor: pointer;\n",
              "      display: none;\n",
              "      fill: #1967D2;\n",
              "      height: 32px;\n",
              "      padding: 0 0 0 0;\n",
              "      width: 32px;\n",
              "    }\n",
              "\n",
              "    .colab-df-convert:hover {\n",
              "      background-color: #E2EBFA;\n",
              "      box-shadow: 0px 1px 2px rgba(60, 64, 67, 0.3), 0px 1px 3px 1px rgba(60, 64, 67, 0.15);\n",
              "      fill: #174EA6;\n",
              "    }\n",
              "\n",
              "    [theme=dark] .colab-df-convert {\n",
              "      background-color: #3B4455;\n",
              "      fill: #D2E3FC;\n",
              "    }\n",
              "\n",
              "    [theme=dark] .colab-df-convert:hover {\n",
              "      background-color: #434B5C;\n",
              "      box-shadow: 0px 1px 3px 1px rgba(0, 0, 0, 0.15);\n",
              "      filter: drop-shadow(0px 1px 2px rgba(0, 0, 0, 0.3));\n",
              "      fill: #FFFFFF;\n",
              "    }\n",
              "  </style>\n",
              "\n",
              "      <script>\n",
              "        const buttonEl =\n",
              "          document.querySelector('#df-5ab12c7a-91cf-460e-9f50-07c4291f4def button.colab-df-convert');\n",
              "        buttonEl.style.display =\n",
              "          google.colab.kernel.accessAllowed ? 'block' : 'none';\n",
              "\n",
              "        async function convertToInteractive(key) {\n",
              "          const element = document.querySelector('#df-5ab12c7a-91cf-460e-9f50-07c4291f4def');\n",
              "          const dataTable =\n",
              "            await google.colab.kernel.invokeFunction('convertToInteractive',\n",
              "                                                     [key], {});\n",
              "          if (!dataTable) return;\n",
              "\n",
              "          const docLinkHtml = 'Like what you see? Visit the ' +\n",
              "            '<a target=\"_blank\" href=https://colab.research.google.com/notebooks/data_table.ipynb>data table notebook</a>'\n",
              "            + ' to learn more about interactive tables.';\n",
              "          element.innerHTML = '';\n",
              "          dataTable['output_type'] = 'display_data';\n",
              "          await google.colab.output.renderOutput(dataTable, element);\n",
              "          const docLink = document.createElement('div');\n",
              "          docLink.innerHTML = docLinkHtml;\n",
              "          element.appendChild(docLink);\n",
              "        }\n",
              "      </script>\n",
              "    </div>\n",
              "  </div>\n",
              "  "
            ]
          },
          "metadata": {},
          "execution_count": 7
        }
      ]
    },
    {
      "cell_type": "markdown",
      "source": [
        "4) Split the data into the features (i.e. X) and the target (i.e. y). Print first few rows of X and y.  "
      ],
      "metadata": {
        "id": "-nvZwGXZ5VQE"
      }
    },
    {
      "cell_type": "code",
      "source": [
        "y = df.pop(\"charges\")\n",
        "X = df[df.columns.difference([\"sex\",\"smoker\",\"region\"])]\n",
        "X.head()"
      ],
      "metadata": {
        "colab": {
          "base_uri": "https://localhost:8080/",
          "height": 206
        },
        "id": "q8MM51iS5Up0",
        "outputId": "29d3953c-f5d2-4a60-8e09-c2ea0d4fdab0"
      },
      "execution_count": null,
      "outputs": [
        {
          "output_type": "execute_result",
          "data": {
            "text/plain": [
              "   age     bmi  children  region_northwest  region_southeast  \\\n",
              "0   19  27.900         0                 0                 0   \n",
              "1   18  33.770         1                 0                 1   \n",
              "2   28  33.000         3                 0                 1   \n",
              "3   33  22.705         0                 1                 0   \n",
              "4   32  28.880         0                 1                 0   \n",
              "\n",
              "   region_southwest  sex_male  smoker_yes  \n",
              "0                 1         0           1  \n",
              "1                 0         1           0  \n",
              "2                 0         1           0  \n",
              "3                 0         1           0  \n",
              "4                 0         1           0  "
            ],
            "text/html": [
              "\n",
              "  <div id=\"df-7bad3123-4457-4e35-8269-3234171150ee\">\n",
              "    <div class=\"colab-df-container\">\n",
              "      <div>\n",
              "<style scoped>\n",
              "    .dataframe tbody tr th:only-of-type {\n",
              "        vertical-align: middle;\n",
              "    }\n",
              "\n",
              "    .dataframe tbody tr th {\n",
              "        vertical-align: top;\n",
              "    }\n",
              "\n",
              "    .dataframe thead th {\n",
              "        text-align: right;\n",
              "    }\n",
              "</style>\n",
              "<table border=\"1\" class=\"dataframe\">\n",
              "  <thead>\n",
              "    <tr style=\"text-align: right;\">\n",
              "      <th></th>\n",
              "      <th>age</th>\n",
              "      <th>bmi</th>\n",
              "      <th>children</th>\n",
              "      <th>region_northwest</th>\n",
              "      <th>region_southeast</th>\n",
              "      <th>region_southwest</th>\n",
              "      <th>sex_male</th>\n",
              "      <th>smoker_yes</th>\n",
              "    </tr>\n",
              "  </thead>\n",
              "  <tbody>\n",
              "    <tr>\n",
              "      <th>0</th>\n",
              "      <td>19</td>\n",
              "      <td>27.900</td>\n",
              "      <td>0</td>\n",
              "      <td>0</td>\n",
              "      <td>0</td>\n",
              "      <td>1</td>\n",
              "      <td>0</td>\n",
              "      <td>1</td>\n",
              "    </tr>\n",
              "    <tr>\n",
              "      <th>1</th>\n",
              "      <td>18</td>\n",
              "      <td>33.770</td>\n",
              "      <td>1</td>\n",
              "      <td>0</td>\n",
              "      <td>1</td>\n",
              "      <td>0</td>\n",
              "      <td>1</td>\n",
              "      <td>0</td>\n",
              "    </tr>\n",
              "    <tr>\n",
              "      <th>2</th>\n",
              "      <td>28</td>\n",
              "      <td>33.000</td>\n",
              "      <td>3</td>\n",
              "      <td>0</td>\n",
              "      <td>1</td>\n",
              "      <td>0</td>\n",
              "      <td>1</td>\n",
              "      <td>0</td>\n",
              "    </tr>\n",
              "    <tr>\n",
              "      <th>3</th>\n",
              "      <td>33</td>\n",
              "      <td>22.705</td>\n",
              "      <td>0</td>\n",
              "      <td>1</td>\n",
              "      <td>0</td>\n",
              "      <td>0</td>\n",
              "      <td>1</td>\n",
              "      <td>0</td>\n",
              "    </tr>\n",
              "    <tr>\n",
              "      <th>4</th>\n",
              "      <td>32</td>\n",
              "      <td>28.880</td>\n",
              "      <td>0</td>\n",
              "      <td>1</td>\n",
              "      <td>0</td>\n",
              "      <td>0</td>\n",
              "      <td>1</td>\n",
              "      <td>0</td>\n",
              "    </tr>\n",
              "  </tbody>\n",
              "</table>\n",
              "</div>\n",
              "      <button class=\"colab-df-convert\" onclick=\"convertToInteractive('df-7bad3123-4457-4e35-8269-3234171150ee')\"\n",
              "              title=\"Convert this dataframe to an interactive table.\"\n",
              "              style=\"display:none;\">\n",
              "        \n",
              "  <svg xmlns=\"http://www.w3.org/2000/svg\" height=\"24px\"viewBox=\"0 0 24 24\"\n",
              "       width=\"24px\">\n",
              "    <path d=\"M0 0h24v24H0V0z\" fill=\"none\"/>\n",
              "    <path d=\"M18.56 5.44l.94 2.06.94-2.06 2.06-.94-2.06-.94-.94-2.06-.94 2.06-2.06.94zm-11 1L8.5 8.5l.94-2.06 2.06-.94-2.06-.94L8.5 2.5l-.94 2.06-2.06.94zm10 10l.94 2.06.94-2.06 2.06-.94-2.06-.94-.94-2.06-.94 2.06-2.06.94z\"/><path d=\"M17.41 7.96l-1.37-1.37c-.4-.4-.92-.59-1.43-.59-.52 0-1.04.2-1.43.59L10.3 9.45l-7.72 7.72c-.78.78-.78 2.05 0 2.83L4 21.41c.39.39.9.59 1.41.59.51 0 1.02-.2 1.41-.59l7.78-7.78 2.81-2.81c.8-.78.8-2.07 0-2.86zM5.41 20L4 18.59l7.72-7.72 1.47 1.35L5.41 20z\"/>\n",
              "  </svg>\n",
              "      </button>\n",
              "      \n",
              "  <style>\n",
              "    .colab-df-container {\n",
              "      display:flex;\n",
              "      flex-wrap:wrap;\n",
              "      gap: 12px;\n",
              "    }\n",
              "\n",
              "    .colab-df-convert {\n",
              "      background-color: #E8F0FE;\n",
              "      border: none;\n",
              "      border-radius: 50%;\n",
              "      cursor: pointer;\n",
              "      display: none;\n",
              "      fill: #1967D2;\n",
              "      height: 32px;\n",
              "      padding: 0 0 0 0;\n",
              "      width: 32px;\n",
              "    }\n",
              "\n",
              "    .colab-df-convert:hover {\n",
              "      background-color: #E2EBFA;\n",
              "      box-shadow: 0px 1px 2px rgba(60, 64, 67, 0.3), 0px 1px 3px 1px rgba(60, 64, 67, 0.15);\n",
              "      fill: #174EA6;\n",
              "    }\n",
              "\n",
              "    [theme=dark] .colab-df-convert {\n",
              "      background-color: #3B4455;\n",
              "      fill: #D2E3FC;\n",
              "    }\n",
              "\n",
              "    [theme=dark] .colab-df-convert:hover {\n",
              "      background-color: #434B5C;\n",
              "      box-shadow: 0px 1px 3px 1px rgba(0, 0, 0, 0.15);\n",
              "      filter: drop-shadow(0px 1px 2px rgba(0, 0, 0, 0.3));\n",
              "      fill: #FFFFFF;\n",
              "    }\n",
              "  </style>\n",
              "\n",
              "      <script>\n",
              "        const buttonEl =\n",
              "          document.querySelector('#df-7bad3123-4457-4e35-8269-3234171150ee button.colab-df-convert');\n",
              "        buttonEl.style.display =\n",
              "          google.colab.kernel.accessAllowed ? 'block' : 'none';\n",
              "\n",
              "        async function convertToInteractive(key) {\n",
              "          const element = document.querySelector('#df-7bad3123-4457-4e35-8269-3234171150ee');\n",
              "          const dataTable =\n",
              "            await google.colab.kernel.invokeFunction('convertToInteractive',\n",
              "                                                     [key], {});\n",
              "          if (!dataTable) return;\n",
              "\n",
              "          const docLinkHtml = 'Like what you see? Visit the ' +\n",
              "            '<a target=\"_blank\" href=https://colab.research.google.com/notebooks/data_table.ipynb>data table notebook</a>'\n",
              "            + ' to learn more about interactive tables.';\n",
              "          element.innerHTML = '';\n",
              "          dataTable['output_type'] = 'display_data';\n",
              "          await google.colab.output.renderOutput(dataTable, element);\n",
              "          const docLink = document.createElement('div');\n",
              "          docLink.innerHTML = docLinkHtml;\n",
              "          element.appendChild(docLink);\n",
              "        }\n",
              "      </script>\n",
              "    </div>\n",
              "  </div>\n",
              "  "
            ]
          },
          "metadata": {},
          "execution_count": 8
        }
      ]
    },
    {
      "cell_type": "code",
      "source": [
        "y[:5]"
      ],
      "metadata": {
        "colab": {
          "base_uri": "https://localhost:8080/"
        },
        "id": "d0NsuXgs5xVb",
        "outputId": "92cd5e4e-d092-4a32-a043-a9792a106acd"
      },
      "execution_count": null,
      "outputs": [
        {
          "output_type": "execute_result",
          "data": {
            "text/plain": [
              "0    16884.92400\n",
              "1     1725.55230\n",
              "2     4449.46200\n",
              "3    21984.47061\n",
              "4     3866.85520\n",
              "Name: charges, dtype: float64"
            ]
          },
          "metadata": {},
          "execution_count": 9
        }
      ]
    },
    {
      "cell_type": "markdown",
      "source": [
        "5) Split the dataset into training (70%) and testing (validation) set (30%). Perform normalization of the data using \n",
        "standardization.   "
      ],
      "metadata": {
        "id": "HYw2C7_H7v08"
      }
    },
    {
      "cell_type": "code",
      "source": [
        "data=X.select_dtypes([\"int\",\"float\"])\n",
        "data.head()"
      ],
      "metadata": {
        "colab": {
          "base_uri": "https://localhost:8080/",
          "height": 206
        },
        "id": "BKF5YylaEKF0",
        "outputId": "bf4bdccc-a0b7-49d9-dbae-1cef364aadad"
      },
      "execution_count": null,
      "outputs": [
        {
          "output_type": "execute_result",
          "data": {
            "text/plain": [
              "   age     bmi  children\n",
              "0   19  27.900         0\n",
              "1   18  33.770         1\n",
              "2   28  33.000         3\n",
              "3   33  22.705         0\n",
              "4   32  28.880         0"
            ],
            "text/html": [
              "\n",
              "  <div id=\"df-c0b975bc-67e7-45cf-8313-f66a5f2023a4\">\n",
              "    <div class=\"colab-df-container\">\n",
              "      <div>\n",
              "<style scoped>\n",
              "    .dataframe tbody tr th:only-of-type {\n",
              "        vertical-align: middle;\n",
              "    }\n",
              "\n",
              "    .dataframe tbody tr th {\n",
              "        vertical-align: top;\n",
              "    }\n",
              "\n",
              "    .dataframe thead th {\n",
              "        text-align: right;\n",
              "    }\n",
              "</style>\n",
              "<table border=\"1\" class=\"dataframe\">\n",
              "  <thead>\n",
              "    <tr style=\"text-align: right;\">\n",
              "      <th></th>\n",
              "      <th>age</th>\n",
              "      <th>bmi</th>\n",
              "      <th>children</th>\n",
              "    </tr>\n",
              "  </thead>\n",
              "  <tbody>\n",
              "    <tr>\n",
              "      <th>0</th>\n",
              "      <td>19</td>\n",
              "      <td>27.900</td>\n",
              "      <td>0</td>\n",
              "    </tr>\n",
              "    <tr>\n",
              "      <th>1</th>\n",
              "      <td>18</td>\n",
              "      <td>33.770</td>\n",
              "      <td>1</td>\n",
              "    </tr>\n",
              "    <tr>\n",
              "      <th>2</th>\n",
              "      <td>28</td>\n",
              "      <td>33.000</td>\n",
              "      <td>3</td>\n",
              "    </tr>\n",
              "    <tr>\n",
              "      <th>3</th>\n",
              "      <td>33</td>\n",
              "      <td>22.705</td>\n",
              "      <td>0</td>\n",
              "    </tr>\n",
              "    <tr>\n",
              "      <th>4</th>\n",
              "      <td>32</td>\n",
              "      <td>28.880</td>\n",
              "      <td>0</td>\n",
              "    </tr>\n",
              "  </tbody>\n",
              "</table>\n",
              "</div>\n",
              "      <button class=\"colab-df-convert\" onclick=\"convertToInteractive('df-c0b975bc-67e7-45cf-8313-f66a5f2023a4')\"\n",
              "              title=\"Convert this dataframe to an interactive table.\"\n",
              "              style=\"display:none;\">\n",
              "        \n",
              "  <svg xmlns=\"http://www.w3.org/2000/svg\" height=\"24px\"viewBox=\"0 0 24 24\"\n",
              "       width=\"24px\">\n",
              "    <path d=\"M0 0h24v24H0V0z\" fill=\"none\"/>\n",
              "    <path d=\"M18.56 5.44l.94 2.06.94-2.06 2.06-.94-2.06-.94-.94-2.06-.94 2.06-2.06.94zm-11 1L8.5 8.5l.94-2.06 2.06-.94-2.06-.94L8.5 2.5l-.94 2.06-2.06.94zm10 10l.94 2.06.94-2.06 2.06-.94-2.06-.94-.94-2.06-.94 2.06-2.06.94z\"/><path d=\"M17.41 7.96l-1.37-1.37c-.4-.4-.92-.59-1.43-.59-.52 0-1.04.2-1.43.59L10.3 9.45l-7.72 7.72c-.78.78-.78 2.05 0 2.83L4 21.41c.39.39.9.59 1.41.59.51 0 1.02-.2 1.41-.59l7.78-7.78 2.81-2.81c.8-.78.8-2.07 0-2.86zM5.41 20L4 18.59l7.72-7.72 1.47 1.35L5.41 20z\"/>\n",
              "  </svg>\n",
              "      </button>\n",
              "      \n",
              "  <style>\n",
              "    .colab-df-container {\n",
              "      display:flex;\n",
              "      flex-wrap:wrap;\n",
              "      gap: 12px;\n",
              "    }\n",
              "\n",
              "    .colab-df-convert {\n",
              "      background-color: #E8F0FE;\n",
              "      border: none;\n",
              "      border-radius: 50%;\n",
              "      cursor: pointer;\n",
              "      display: none;\n",
              "      fill: #1967D2;\n",
              "      height: 32px;\n",
              "      padding: 0 0 0 0;\n",
              "      width: 32px;\n",
              "    }\n",
              "\n",
              "    .colab-df-convert:hover {\n",
              "      background-color: #E2EBFA;\n",
              "      box-shadow: 0px 1px 2px rgba(60, 64, 67, 0.3), 0px 1px 3px 1px rgba(60, 64, 67, 0.15);\n",
              "      fill: #174EA6;\n",
              "    }\n",
              "\n",
              "    [theme=dark] .colab-df-convert {\n",
              "      background-color: #3B4455;\n",
              "      fill: #D2E3FC;\n",
              "    }\n",
              "\n",
              "    [theme=dark] .colab-df-convert:hover {\n",
              "      background-color: #434B5C;\n",
              "      box-shadow: 0px 1px 3px 1px rgba(0, 0, 0, 0.15);\n",
              "      filter: drop-shadow(0px 1px 2px rgba(0, 0, 0, 0.3));\n",
              "      fill: #FFFFFF;\n",
              "    }\n",
              "  </style>\n",
              "\n",
              "      <script>\n",
              "        const buttonEl =\n",
              "          document.querySelector('#df-c0b975bc-67e7-45cf-8313-f66a5f2023a4 button.colab-df-convert');\n",
              "        buttonEl.style.display =\n",
              "          google.colab.kernel.accessAllowed ? 'block' : 'none';\n",
              "\n",
              "        async function convertToInteractive(key) {\n",
              "          const element = document.querySelector('#df-c0b975bc-67e7-45cf-8313-f66a5f2023a4');\n",
              "          const dataTable =\n",
              "            await google.colab.kernel.invokeFunction('convertToInteractive',\n",
              "                                                     [key], {});\n",
              "          if (!dataTable) return;\n",
              "\n",
              "          const docLinkHtml = 'Like what you see? Visit the ' +\n",
              "            '<a target=\"_blank\" href=https://colab.research.google.com/notebooks/data_table.ipynb>data table notebook</a>'\n",
              "            + ' to learn more about interactive tables.';\n",
              "          element.innerHTML = '';\n",
              "          dataTable['output_type'] = 'display_data';\n",
              "          await google.colab.output.renderOutput(dataTable, element);\n",
              "          const docLink = document.createElement('div');\n",
              "          docLink.innerHTML = docLinkHtml;\n",
              "          element.appendChild(docLink);\n",
              "        }\n",
              "      </script>\n",
              "    </div>\n",
              "  </div>\n",
              "  "
            ]
          },
          "metadata": {},
          "execution_count": 10
        }
      ]
    },
    {
      "cell_type": "code",
      "source": [
        "# normalized_df=(data-data.mean())/data.std()"
      ],
      "metadata": {
        "id": "Z_Swl421E_4U"
      },
      "execution_count": null,
      "outputs": []
    },
    {
      "cell_type": "code",
      "source": [
        "# for i in normalized_df.columns:\n",
        "#   X.loc[:,i+\"-normalized\"] = normalized_df[i]\n",
        "# X.head()"
      ],
      "metadata": {
        "id": "ne-1QHjANwP1"
      },
      "execution_count": null,
      "outputs": []
    },
    {
      "cell_type": "code",
      "source": [
        "# #normalize first\n",
        "from sklearn.preprocessing import StandardScaler\n",
        "X_normalized = pd.DataFrame(StandardScaler().fit_transform(X.select_dtypes([\"int\",\"float\"])),columns=[\"age-norm\",\"bmi-norm\",\"children-norm\"])\n",
        "X = pd.concat([X,X_normalized],axis=1)\n",
        "X=X.iloc[:,3:]\n",
        "#train_test_split\n",
        "from sklearn.model_selection import train_test_split\n",
        "X_train, X_test, y_train, y_test = train_test_split(X, y, test_size=0.30, random_state=1)\n",
        "\n",
        "# from sklearn.preprocessing import StandardScaler\n",
        "# X_normalized = pd.DataFrame(StandardScaler().fit_transform(X_train.select_dtypes([\"int\",\"float\"])),columns=[\"age-norm\",\"bmi-norm\",\"children-norm\"])\n",
        "# print(X_normalized.shape)\n",
        "# X_train = pd.concat([X_train,X_normalized],axis=1)\n",
        "# print(X_train.shape)\n",
        "# X_train=X_train.iloc[:,3:]\n"
      ],
      "metadata": {
        "id": "BfyN4lql7JbN"
      },
      "execution_count": null,
      "outputs": []
    },
    {
      "cell_type": "code",
      "source": [
        "X_train.head(2)"
      ],
      "metadata": {
        "colab": {
          "base_uri": "https://localhost:8080/",
          "height": 112
        },
        "id": "MO6bbIZORIQ1",
        "outputId": "6487a070-3cc1-4439-8170-7916f8529e1f"
      },
      "execution_count": null,
      "outputs": [
        {
          "output_type": "execute_result",
          "data": {
            "text/plain": [
              "     region_northwest  region_southeast  region_southwest  sex_male  \\\n",
              "520                 0                 1                 0         0   \n",
              "575                 0                 1                 0         1   \n",
              "\n",
              "     smoker_yes  age-norm  bmi-norm  children-norm  \n",
              "520           0 -0.514431  2.223046      -0.909234  \n",
              "575           0 -1.226729 -0.626982      -0.909234  "
            ],
            "text/html": [
              "\n",
              "  <div id=\"df-3e38c50f-bdc6-40b4-b6bf-25db0fba3b57\">\n",
              "    <div class=\"colab-df-container\">\n",
              "      <div>\n",
              "<style scoped>\n",
              "    .dataframe tbody tr th:only-of-type {\n",
              "        vertical-align: middle;\n",
              "    }\n",
              "\n",
              "    .dataframe tbody tr th {\n",
              "        vertical-align: top;\n",
              "    }\n",
              "\n",
              "    .dataframe thead th {\n",
              "        text-align: right;\n",
              "    }\n",
              "</style>\n",
              "<table border=\"1\" class=\"dataframe\">\n",
              "  <thead>\n",
              "    <tr style=\"text-align: right;\">\n",
              "      <th></th>\n",
              "      <th>region_northwest</th>\n",
              "      <th>region_southeast</th>\n",
              "      <th>region_southwest</th>\n",
              "      <th>sex_male</th>\n",
              "      <th>smoker_yes</th>\n",
              "      <th>age-norm</th>\n",
              "      <th>bmi-norm</th>\n",
              "      <th>children-norm</th>\n",
              "    </tr>\n",
              "  </thead>\n",
              "  <tbody>\n",
              "    <tr>\n",
              "      <th>520</th>\n",
              "      <td>0</td>\n",
              "      <td>1</td>\n",
              "      <td>0</td>\n",
              "      <td>0</td>\n",
              "      <td>0</td>\n",
              "      <td>-0.514431</td>\n",
              "      <td>2.223046</td>\n",
              "      <td>-0.909234</td>\n",
              "    </tr>\n",
              "    <tr>\n",
              "      <th>575</th>\n",
              "      <td>0</td>\n",
              "      <td>1</td>\n",
              "      <td>0</td>\n",
              "      <td>1</td>\n",
              "      <td>0</td>\n",
              "      <td>-1.226729</td>\n",
              "      <td>-0.626982</td>\n",
              "      <td>-0.909234</td>\n",
              "    </tr>\n",
              "  </tbody>\n",
              "</table>\n",
              "</div>\n",
              "      <button class=\"colab-df-convert\" onclick=\"convertToInteractive('df-3e38c50f-bdc6-40b4-b6bf-25db0fba3b57')\"\n",
              "              title=\"Convert this dataframe to an interactive table.\"\n",
              "              style=\"display:none;\">\n",
              "        \n",
              "  <svg xmlns=\"http://www.w3.org/2000/svg\" height=\"24px\"viewBox=\"0 0 24 24\"\n",
              "       width=\"24px\">\n",
              "    <path d=\"M0 0h24v24H0V0z\" fill=\"none\"/>\n",
              "    <path d=\"M18.56 5.44l.94 2.06.94-2.06 2.06-.94-2.06-.94-.94-2.06-.94 2.06-2.06.94zm-11 1L8.5 8.5l.94-2.06 2.06-.94-2.06-.94L8.5 2.5l-.94 2.06-2.06.94zm10 10l.94 2.06.94-2.06 2.06-.94-2.06-.94-.94-2.06-.94 2.06-2.06.94z\"/><path d=\"M17.41 7.96l-1.37-1.37c-.4-.4-.92-.59-1.43-.59-.52 0-1.04.2-1.43.59L10.3 9.45l-7.72 7.72c-.78.78-.78 2.05 0 2.83L4 21.41c.39.39.9.59 1.41.59.51 0 1.02-.2 1.41-.59l7.78-7.78 2.81-2.81c.8-.78.8-2.07 0-2.86zM5.41 20L4 18.59l7.72-7.72 1.47 1.35L5.41 20z\"/>\n",
              "  </svg>\n",
              "      </button>\n",
              "      \n",
              "  <style>\n",
              "    .colab-df-container {\n",
              "      display:flex;\n",
              "      flex-wrap:wrap;\n",
              "      gap: 12px;\n",
              "    }\n",
              "\n",
              "    .colab-df-convert {\n",
              "      background-color: #E8F0FE;\n",
              "      border: none;\n",
              "      border-radius: 50%;\n",
              "      cursor: pointer;\n",
              "      display: none;\n",
              "      fill: #1967D2;\n",
              "      height: 32px;\n",
              "      padding: 0 0 0 0;\n",
              "      width: 32px;\n",
              "    }\n",
              "\n",
              "    .colab-df-convert:hover {\n",
              "      background-color: #E2EBFA;\n",
              "      box-shadow: 0px 1px 2px rgba(60, 64, 67, 0.3), 0px 1px 3px 1px rgba(60, 64, 67, 0.15);\n",
              "      fill: #174EA6;\n",
              "    }\n",
              "\n",
              "    [theme=dark] .colab-df-convert {\n",
              "      background-color: #3B4455;\n",
              "      fill: #D2E3FC;\n",
              "    }\n",
              "\n",
              "    [theme=dark] .colab-df-convert:hover {\n",
              "      background-color: #434B5C;\n",
              "      box-shadow: 0px 1px 3px 1px rgba(0, 0, 0, 0.15);\n",
              "      filter: drop-shadow(0px 1px 2px rgba(0, 0, 0, 0.3));\n",
              "      fill: #FFFFFF;\n",
              "    }\n",
              "  </style>\n",
              "\n",
              "      <script>\n",
              "        const buttonEl =\n",
              "          document.querySelector('#df-3e38c50f-bdc6-40b4-b6bf-25db0fba3b57 button.colab-df-convert');\n",
              "        buttonEl.style.display =\n",
              "          google.colab.kernel.accessAllowed ? 'block' : 'none';\n",
              "\n",
              "        async function convertToInteractive(key) {\n",
              "          const element = document.querySelector('#df-3e38c50f-bdc6-40b4-b6bf-25db0fba3b57');\n",
              "          const dataTable =\n",
              "            await google.colab.kernel.invokeFunction('convertToInteractive',\n",
              "                                                     [key], {});\n",
              "          if (!dataTable) return;\n",
              "\n",
              "          const docLinkHtml = 'Like what you see? Visit the ' +\n",
              "            '<a target=\"_blank\" href=https://colab.research.google.com/notebooks/data_table.ipynb>data table notebook</a>'\n",
              "            + ' to learn more about interactive tables.';\n",
              "          element.innerHTML = '';\n",
              "          dataTable['output_type'] = 'display_data';\n",
              "          await google.colab.output.renderOutput(dataTable, element);\n",
              "          const docLink = document.createElement('div');\n",
              "          docLink.innerHTML = docLinkHtml;\n",
              "          element.appendChild(docLink);\n",
              "        }\n",
              "      </script>\n",
              "    </div>\n",
              "  </div>\n",
              "  "
            ]
          },
          "metadata": {},
          "execution_count": 14
        }
      ]
    },
    {
      "cell_type": "code",
      "source": [
        "X_test.head(2)"
      ],
      "metadata": {
        "colab": {
          "base_uri": "https://localhost:8080/",
          "height": 112
        },
        "id": "77o23_daRMQ1",
        "outputId": "ccb51bc5-06df-43f8-afb5-65bb55435ee1"
      },
      "execution_count": null,
      "outputs": [
        {
          "output_type": "execute_result",
          "data": {
            "text/plain": [
              "      region_northwest  region_southeast  region_southwest  sex_male  \\\n",
              "628                  1                 0                 0         0   \n",
              "1086                 1                 0                 0         1   \n",
              "\n",
              "      smoker_yes  age-norm  bmi-norm  children-norm  \n",
              "628            1  0.340326  1.358854      -0.909234  \n",
              "1086           0  1.266312  0.143739      -0.909234  "
            ],
            "text/html": [
              "\n",
              "  <div id=\"df-d72e3f68-51e9-4b99-b265-cfe21b82cdaa\">\n",
              "    <div class=\"colab-df-container\">\n",
              "      <div>\n",
              "<style scoped>\n",
              "    .dataframe tbody tr th:only-of-type {\n",
              "        vertical-align: middle;\n",
              "    }\n",
              "\n",
              "    .dataframe tbody tr th {\n",
              "        vertical-align: top;\n",
              "    }\n",
              "\n",
              "    .dataframe thead th {\n",
              "        text-align: right;\n",
              "    }\n",
              "</style>\n",
              "<table border=\"1\" class=\"dataframe\">\n",
              "  <thead>\n",
              "    <tr style=\"text-align: right;\">\n",
              "      <th></th>\n",
              "      <th>region_northwest</th>\n",
              "      <th>region_southeast</th>\n",
              "      <th>region_southwest</th>\n",
              "      <th>sex_male</th>\n",
              "      <th>smoker_yes</th>\n",
              "      <th>age-norm</th>\n",
              "      <th>bmi-norm</th>\n",
              "      <th>children-norm</th>\n",
              "    </tr>\n",
              "  </thead>\n",
              "  <tbody>\n",
              "    <tr>\n",
              "      <th>628</th>\n",
              "      <td>1</td>\n",
              "      <td>0</td>\n",
              "      <td>0</td>\n",
              "      <td>0</td>\n",
              "      <td>1</td>\n",
              "      <td>0.340326</td>\n",
              "      <td>1.358854</td>\n",
              "      <td>-0.909234</td>\n",
              "    </tr>\n",
              "    <tr>\n",
              "      <th>1086</th>\n",
              "      <td>1</td>\n",
              "      <td>0</td>\n",
              "      <td>0</td>\n",
              "      <td>1</td>\n",
              "      <td>0</td>\n",
              "      <td>1.266312</td>\n",
              "      <td>0.143739</td>\n",
              "      <td>-0.909234</td>\n",
              "    </tr>\n",
              "  </tbody>\n",
              "</table>\n",
              "</div>\n",
              "      <button class=\"colab-df-convert\" onclick=\"convertToInteractive('df-d72e3f68-51e9-4b99-b265-cfe21b82cdaa')\"\n",
              "              title=\"Convert this dataframe to an interactive table.\"\n",
              "              style=\"display:none;\">\n",
              "        \n",
              "  <svg xmlns=\"http://www.w3.org/2000/svg\" height=\"24px\"viewBox=\"0 0 24 24\"\n",
              "       width=\"24px\">\n",
              "    <path d=\"M0 0h24v24H0V0z\" fill=\"none\"/>\n",
              "    <path d=\"M18.56 5.44l.94 2.06.94-2.06 2.06-.94-2.06-.94-.94-2.06-.94 2.06-2.06.94zm-11 1L8.5 8.5l.94-2.06 2.06-.94-2.06-.94L8.5 2.5l-.94 2.06-2.06.94zm10 10l.94 2.06.94-2.06 2.06-.94-2.06-.94-.94-2.06-.94 2.06-2.06.94z\"/><path d=\"M17.41 7.96l-1.37-1.37c-.4-.4-.92-.59-1.43-.59-.52 0-1.04.2-1.43.59L10.3 9.45l-7.72 7.72c-.78.78-.78 2.05 0 2.83L4 21.41c.39.39.9.59 1.41.59.51 0 1.02-.2 1.41-.59l7.78-7.78 2.81-2.81c.8-.78.8-2.07 0-2.86zM5.41 20L4 18.59l7.72-7.72 1.47 1.35L5.41 20z\"/>\n",
              "  </svg>\n",
              "      </button>\n",
              "      \n",
              "  <style>\n",
              "    .colab-df-container {\n",
              "      display:flex;\n",
              "      flex-wrap:wrap;\n",
              "      gap: 12px;\n",
              "    }\n",
              "\n",
              "    .colab-df-convert {\n",
              "      background-color: #E8F0FE;\n",
              "      border: none;\n",
              "      border-radius: 50%;\n",
              "      cursor: pointer;\n",
              "      display: none;\n",
              "      fill: #1967D2;\n",
              "      height: 32px;\n",
              "      padding: 0 0 0 0;\n",
              "      width: 32px;\n",
              "    }\n",
              "\n",
              "    .colab-df-convert:hover {\n",
              "      background-color: #E2EBFA;\n",
              "      box-shadow: 0px 1px 2px rgba(60, 64, 67, 0.3), 0px 1px 3px 1px rgba(60, 64, 67, 0.15);\n",
              "      fill: #174EA6;\n",
              "    }\n",
              "\n",
              "    [theme=dark] .colab-df-convert {\n",
              "      background-color: #3B4455;\n",
              "      fill: #D2E3FC;\n",
              "    }\n",
              "\n",
              "    [theme=dark] .colab-df-convert:hover {\n",
              "      background-color: #434B5C;\n",
              "      box-shadow: 0px 1px 3px 1px rgba(0, 0, 0, 0.15);\n",
              "      filter: drop-shadow(0px 1px 2px rgba(0, 0, 0, 0.3));\n",
              "      fill: #FFFFFF;\n",
              "    }\n",
              "  </style>\n",
              "\n",
              "      <script>\n",
              "        const buttonEl =\n",
              "          document.querySelector('#df-d72e3f68-51e9-4b99-b265-cfe21b82cdaa button.colab-df-convert');\n",
              "        buttonEl.style.display =\n",
              "          google.colab.kernel.accessAllowed ? 'block' : 'none';\n",
              "\n",
              "        async function convertToInteractive(key) {\n",
              "          const element = document.querySelector('#df-d72e3f68-51e9-4b99-b265-cfe21b82cdaa');\n",
              "          const dataTable =\n",
              "            await google.colab.kernel.invokeFunction('convertToInteractive',\n",
              "                                                     [key], {});\n",
              "          if (!dataTable) return;\n",
              "\n",
              "          const docLinkHtml = 'Like what you see? Visit the ' +\n",
              "            '<a target=\"_blank\" href=https://colab.research.google.com/notebooks/data_table.ipynb>data table notebook</a>'\n",
              "            + ' to learn more about interactive tables.';\n",
              "          element.innerHTML = '';\n",
              "          dataTable['output_type'] = 'display_data';\n",
              "          await google.colab.output.renderOutput(dataTable, element);\n",
              "          const docLink = document.createElement('div');\n",
              "          docLink.innerHTML = docLinkHtml;\n",
              "          element.appendChild(docLink);\n",
              "        }\n",
              "      </script>\n",
              "    </div>\n",
              "  </div>\n",
              "  "
            ]
          },
          "metadata": {},
          "execution_count": 15
        }
      ]
    },
    {
      "cell_type": "code",
      "source": [
        "y_train.head(2)"
      ],
      "metadata": {
        "colab": {
          "base_uri": "https://localhost:8080/"
        },
        "id": "L6uZDps-RMTE",
        "outputId": "64d71206-1f0e-4779-eb82-02c9f55b1985"
      },
      "execution_count": null,
      "outputs": [
        {
          "output_type": "execute_result",
          "data": {
            "text/plain": [
              "520    3994.1778\n",
              "575    1664.9996\n",
              "Name: charges, dtype: float64"
            ]
          },
          "metadata": {},
          "execution_count": 16
        }
      ]
    },
    {
      "cell_type": "code",
      "source": [
        "y_test.head(2)"
      ],
      "metadata": {
        "colab": {
          "base_uri": "https://localhost:8080/"
        },
        "id": "GSDgaDtRRMV6",
        "outputId": "8e33a8af-d0a4-4961-d245-1858adb0f886"
      },
      "execution_count": null,
      "outputs": [
        {
          "output_type": "execute_result",
          "data": {
            "text/plain": [
              "628     42983.4585\n",
              "1086    11353.2276\n",
              "Name: charges, dtype: float64"
            ]
          },
          "metadata": {},
          "execution_count": 17
        }
      ]
    },
    {
      "cell_type": "markdown",
      "source": [
        "6) Print how many data instances and columns we have in the train set. "
      ],
      "metadata": {
        "id": "N_a-mR3PR-mf"
      }
    },
    {
      "cell_type": "code",
      "source": [
        "X_train.shape"
      ],
      "metadata": {
        "colab": {
          "base_uri": "https://localhost:8080/"
        },
        "id": "FLxne1VGRqGl",
        "outputId": "65a0bfc8-a8bc-4c5b-a688-4141a0fcf885"
      },
      "execution_count": null,
      "outputs": [
        {
          "output_type": "execute_result",
          "data": {
            "text/plain": [
              "(935, 8)"
            ]
          },
          "metadata": {},
          "execution_count": 18
        }
      ]
    },
    {
      "cell_type": "code",
      "source": [
        "X_train.head(2)"
      ],
      "metadata": {
        "colab": {
          "base_uri": "https://localhost:8080/",
          "height": 112
        },
        "id": "HT6ev9Zlec63",
        "outputId": "7d3d7d54-4356-442a-aa3c-98e028407a54"
      },
      "execution_count": null,
      "outputs": [
        {
          "output_type": "execute_result",
          "data": {
            "text/plain": [
              "     region_northwest  region_southeast  region_southwest  sex_male  \\\n",
              "520                 0                 1                 0         0   \n",
              "575                 0                 1                 0         1   \n",
              "\n",
              "     smoker_yes  age-norm  bmi-norm  children-norm  \n",
              "520           0 -0.514431  2.223046      -0.909234  \n",
              "575           0 -1.226729 -0.626982      -0.909234  "
            ],
            "text/html": [
              "\n",
              "  <div id=\"df-17cbff27-bdd9-4136-bd28-6c5f7e8c1597\">\n",
              "    <div class=\"colab-df-container\">\n",
              "      <div>\n",
              "<style scoped>\n",
              "    .dataframe tbody tr th:only-of-type {\n",
              "        vertical-align: middle;\n",
              "    }\n",
              "\n",
              "    .dataframe tbody tr th {\n",
              "        vertical-align: top;\n",
              "    }\n",
              "\n",
              "    .dataframe thead th {\n",
              "        text-align: right;\n",
              "    }\n",
              "</style>\n",
              "<table border=\"1\" class=\"dataframe\">\n",
              "  <thead>\n",
              "    <tr style=\"text-align: right;\">\n",
              "      <th></th>\n",
              "      <th>region_northwest</th>\n",
              "      <th>region_southeast</th>\n",
              "      <th>region_southwest</th>\n",
              "      <th>sex_male</th>\n",
              "      <th>smoker_yes</th>\n",
              "      <th>age-norm</th>\n",
              "      <th>bmi-norm</th>\n",
              "      <th>children-norm</th>\n",
              "    </tr>\n",
              "  </thead>\n",
              "  <tbody>\n",
              "    <tr>\n",
              "      <th>520</th>\n",
              "      <td>0</td>\n",
              "      <td>1</td>\n",
              "      <td>0</td>\n",
              "      <td>0</td>\n",
              "      <td>0</td>\n",
              "      <td>-0.514431</td>\n",
              "      <td>2.223046</td>\n",
              "      <td>-0.909234</td>\n",
              "    </tr>\n",
              "    <tr>\n",
              "      <th>575</th>\n",
              "      <td>0</td>\n",
              "      <td>1</td>\n",
              "      <td>0</td>\n",
              "      <td>1</td>\n",
              "      <td>0</td>\n",
              "      <td>-1.226729</td>\n",
              "      <td>-0.626982</td>\n",
              "      <td>-0.909234</td>\n",
              "    </tr>\n",
              "  </tbody>\n",
              "</table>\n",
              "</div>\n",
              "      <button class=\"colab-df-convert\" onclick=\"convertToInteractive('df-17cbff27-bdd9-4136-bd28-6c5f7e8c1597')\"\n",
              "              title=\"Convert this dataframe to an interactive table.\"\n",
              "              style=\"display:none;\">\n",
              "        \n",
              "  <svg xmlns=\"http://www.w3.org/2000/svg\" height=\"24px\"viewBox=\"0 0 24 24\"\n",
              "       width=\"24px\">\n",
              "    <path d=\"M0 0h24v24H0V0z\" fill=\"none\"/>\n",
              "    <path d=\"M18.56 5.44l.94 2.06.94-2.06 2.06-.94-2.06-.94-.94-2.06-.94 2.06-2.06.94zm-11 1L8.5 8.5l.94-2.06 2.06-.94-2.06-.94L8.5 2.5l-.94 2.06-2.06.94zm10 10l.94 2.06.94-2.06 2.06-.94-2.06-.94-.94-2.06-.94 2.06-2.06.94z\"/><path d=\"M17.41 7.96l-1.37-1.37c-.4-.4-.92-.59-1.43-.59-.52 0-1.04.2-1.43.59L10.3 9.45l-7.72 7.72c-.78.78-.78 2.05 0 2.83L4 21.41c.39.39.9.59 1.41.59.51 0 1.02-.2 1.41-.59l7.78-7.78 2.81-2.81c.8-.78.8-2.07 0-2.86zM5.41 20L4 18.59l7.72-7.72 1.47 1.35L5.41 20z\"/>\n",
              "  </svg>\n",
              "      </button>\n",
              "      \n",
              "  <style>\n",
              "    .colab-df-container {\n",
              "      display:flex;\n",
              "      flex-wrap:wrap;\n",
              "      gap: 12px;\n",
              "    }\n",
              "\n",
              "    .colab-df-convert {\n",
              "      background-color: #E8F0FE;\n",
              "      border: none;\n",
              "      border-radius: 50%;\n",
              "      cursor: pointer;\n",
              "      display: none;\n",
              "      fill: #1967D2;\n",
              "      height: 32px;\n",
              "      padding: 0 0 0 0;\n",
              "      width: 32px;\n",
              "    }\n",
              "\n",
              "    .colab-df-convert:hover {\n",
              "      background-color: #E2EBFA;\n",
              "      box-shadow: 0px 1px 2px rgba(60, 64, 67, 0.3), 0px 1px 3px 1px rgba(60, 64, 67, 0.15);\n",
              "      fill: #174EA6;\n",
              "    }\n",
              "\n",
              "    [theme=dark] .colab-df-convert {\n",
              "      background-color: #3B4455;\n",
              "      fill: #D2E3FC;\n",
              "    }\n",
              "\n",
              "    [theme=dark] .colab-df-convert:hover {\n",
              "      background-color: #434B5C;\n",
              "      box-shadow: 0px 1px 3px 1px rgba(0, 0, 0, 0.15);\n",
              "      filter: drop-shadow(0px 1px 2px rgba(0, 0, 0, 0.3));\n",
              "      fill: #FFFFFF;\n",
              "    }\n",
              "  </style>\n",
              "\n",
              "      <script>\n",
              "        const buttonEl =\n",
              "          document.querySelector('#df-17cbff27-bdd9-4136-bd28-6c5f7e8c1597 button.colab-df-convert');\n",
              "        buttonEl.style.display =\n",
              "          google.colab.kernel.accessAllowed ? 'block' : 'none';\n",
              "\n",
              "        async function convertToInteractive(key) {\n",
              "          const element = document.querySelector('#df-17cbff27-bdd9-4136-bd28-6c5f7e8c1597');\n",
              "          const dataTable =\n",
              "            await google.colab.kernel.invokeFunction('convertToInteractive',\n",
              "                                                     [key], {});\n",
              "          if (!dataTable) return;\n",
              "\n",
              "          const docLinkHtml = 'Like what you see? Visit the ' +\n",
              "            '<a target=\"_blank\" href=https://colab.research.google.com/notebooks/data_table.ipynb>data table notebook</a>'\n",
              "            + ' to learn more about interactive tables.';\n",
              "          element.innerHTML = '';\n",
              "          dataTable['output_type'] = 'display_data';\n",
              "          await google.colab.output.renderOutput(dataTable, element);\n",
              "          const docLink = document.createElement('div');\n",
              "          docLink.innerHTML = docLinkHtml;\n",
              "          element.appendChild(docLink);\n",
              "        }\n",
              "      </script>\n",
              "    </div>\n",
              "  </div>\n",
              "  "
            ]
          },
          "metadata": {},
          "execution_count": 19
        }
      ]
    },
    {
      "cell_type": "markdown",
      "source": [
        "7) Build a simple NN Regression model that has 64 Dense units. Specify mean_squared_error for the loss and\n",
        "adam for optimizer. Run it for 100 epochs. Plot the loss plot for training and validation. You can do that like this:\n",
        "r = model.fit(X_train, y_train, validation_data=(X_test, y_test), epochs=100)\n"
      ],
      "metadata": {
        "id": "LqEVEQeUMisb"
      }
    },
    {
      "cell_type": "code",
      "source": [
        "#model design\n",
        "model1 = tf.keras.models.Sequential([\n",
        "  tf.keras.layers.Dense(64, input_shape=(8,), activation='relu'),\n",
        "  tf.keras.layers.Dense(1)\n",
        "])\n",
        "#define opt and loss\n",
        "opt =tf.keras.optimizers.Adam(0.01)\n",
        "model1.compile(optimizer=opt, loss='mean_squared_error')"
      ],
      "metadata": {
        "id": "MEv3elA9Mhks"
      },
      "execution_count": null,
      "outputs": []
    },
    {
      "cell_type": "code",
      "source": [
        "model1.summary()"
      ],
      "metadata": {
        "colab": {
          "base_uri": "https://localhost:8080/"
        },
        "id": "o56X2HTxQdvU",
        "outputId": "7e0d54a8-463b-4bff-f03a-ce134926ff24"
      },
      "execution_count": null,
      "outputs": [
        {
          "output_type": "stream",
          "name": "stdout",
          "text": [
            "Model: \"sequential\"\n",
            "_________________________________________________________________\n",
            " Layer (type)                Output Shape              Param #   \n",
            "=================================================================\n",
            " dense (Dense)               (None, 64)                576       \n",
            "                                                                 \n",
            " dense_1 (Dense)             (None, 1)                 65        \n",
            "                                                                 \n",
            "=================================================================\n",
            "Total params: 641\n",
            "Trainable params: 641\n",
            "Non-trainable params: 0\n",
            "_________________________________________________________________\n"
          ]
        }
      ]
    },
    {
      "cell_type": "code",
      "source": [
        "r1 = model1.fit(X_train, y_train, validation_data=(X_test, y_test), epochs=100, verbose=0)"
      ],
      "metadata": {
        "id": "Gbq1_GWHNe78"
      },
      "execution_count": null,
      "outputs": []
    },
    {
      "cell_type": "code",
      "source": [
        "model1.get_weights()[0][0]"
      ],
      "metadata": {
        "colab": {
          "base_uri": "https://localhost:8080/"
        },
        "id": "VQ4gQvEj0Fsp",
        "outputId": "efc8439c-0222-4049-8bc8-ca46331b0ff3"
      },
      "execution_count": null,
      "outputs": [
        {
          "output_type": "execute_result",
          "data": {
            "text/plain": [
              "array([ 1.7023208 ,  1.5333183 ,  1.513967  ,  1.8059725 , -0.17226711,\n",
              "        1.4852113 , -0.13166764, -0.31305656,  1.4483279 ,  1.5223632 ,\n",
              "        1.3155401 , -0.23318152,  1.302518  , -0.24777246,  1.6253017 ,\n",
              "        1.4991511 ,  1.494666  ,  1.772419  ,  1.5817653 ,  1.6388117 ,\n",
              "        1.4868451 ,  1.6249537 , -0.06564999,  1.5083386 ,  1.985497  ,\n",
              "        0.07670653,  1.7702634 ,  1.6241428 ,  1.7174355 ,  1.9526999 ,\n",
              "        2.0099883 ,  1.9029909 , -0.00446327,  1.6541427 ,  1.6177073 ,\n",
              "        1.5769987 ,  1.3348517 , -0.04191799,  1.4651186 ,  2.0075402 ,\n",
              "        1.7655609 ,  1.5379809 , -0.2710033 ,  2.046784  , -0.18844134,\n",
              "        1.7070023 ,  1.7280054 ,  1.766708  , -0.28226468,  1.7123703 ,\n",
              "        1.7524661 , -0.13051645, -0.26940528,  1.6634051 ,  1.5365089 ,\n",
              "       -0.14769885,  1.71754   ,  1.8577532 ,  1.552037  ,  1.5898418 ,\n",
              "        1.5681212 ,  2.0854833 ,  1.9874493 ,  1.8556714 ], dtype=float32)"
            ]
          },
          "metadata": {},
          "execution_count": 23
        }
      ]
    },
    {
      "cell_type": "code",
      "source": [
        "print(r1.history['loss'][-2:])\n",
        "print(\"###\")\n",
        "plt.plot(r1.history['loss'])"
      ],
      "metadata": {
        "colab": {
          "base_uri": "https://localhost:8080/",
          "height": 328
        },
        "id": "XveR7tdRl6c-",
        "outputId": "ab40b93f-425a-4606-aca1-4b301d969539"
      },
      "execution_count": null,
      "outputs": [
        {
          "output_type": "stream",
          "name": "stdout",
          "text": [
            "[39669788.0, 39445896.0]\n",
            "###\n"
          ]
        },
        {
          "output_type": "execute_result",
          "data": {
            "text/plain": [
              "[<matplotlib.lines.Line2D at 0x7fec90076850>]"
            ]
          },
          "metadata": {},
          "execution_count": 24
        },
        {
          "output_type": "display_data",
          "data": {
            "text/plain": [
              "<Figure size 432x288 with 1 Axes>"
            ],
            "image/png": "[encoded data removed]"
          },
          "metadata": {
            "needs_background": "light"
          }
        }
      ]
    },
    {
      "cell_type": "code",
      "source": [
        "print(r1.history['loss'][-2:])\n",
        "print(\"###\")\n",
        "plt.plot(r1.history['val_loss'])"
      ],
      "metadata": {
        "colab": {
          "base_uri": "https://localhost:8080/",
          "height": 328
        },
        "id": "hEaAOoyjoHdM",
        "outputId": "5d787fd9-7786-48ae-e517-1e4453aaf6ac"
      },
      "execution_count": null,
      "outputs": [
        {
          "output_type": "stream",
          "name": "stdout",
          "text": [
            "[39669788.0, 39445896.0]\n",
            "###\n"
          ]
        },
        {
          "output_type": "execute_result",
          "data": {
            "text/plain": [
              "[<matplotlib.lines.Line2D at 0x7fec2411a2d0>]"
            ]
          },
          "metadata": {},
          "execution_count": 25
        },
        {
          "output_type": "display_data",
          "data": {
            "text/plain": [
              "<Figure size 432x288 with 1 Axes>"
            ],
            "image/png": "[encoded data removed]"
          },
          "metadata": {
            "needs_background": "light"
          }
        }
      ]
    },
    {
      "cell_type": "code",
      "source": [
        "print(\" X-\",X_test.loc[628], \";\\n\\n Y-\", y_test.loc[628])\n",
        "print(\"####\")\n",
        "print((model1.predict(np.array( [X_test.loc[628],] ) )))\n"
      ],
      "metadata": {
        "colab": {
          "base_uri": "https://localhost:8080/"
        },
        "id": "7XQbMZW9mGqs",
        "outputId": "4f635fd9-a827-407c-b707-ff3a33942e3e"
      },
      "execution_count": null,
      "outputs": [
        {
          "output_type": "stream",
          "name": "stdout",
          "text": [
            " X- region_northwest    1.000000\n",
            "region_southeast    0.000000\n",
            "region_southwest    0.000000\n",
            "sex_male            0.000000\n",
            "smoker_yes          1.000000\n",
            "age-norm            0.340326\n",
            "bmi-norm            1.358854\n",
            "children-norm      -0.909234\n",
            "Name: 628, dtype: float64 ;\n",
            "\n",
            " Y- 42983.4585\n",
            "####\n",
            "[[33745.25]]\n"
          ]
        }
      ]
    },
    {
      "cell_type": "markdown",
      "source": [
        "9) Next, change the optimizer to sgd. Run it for 100 epochs. Plot the loss plot for training and validation."
      ],
      "metadata": {
        "id": "K4voGzc1sw3F"
      }
    },
    {
      "cell_type": "code",
      "source": [
        "#model design\n",
        "model2 = tf.keras.models.Sequential([\n",
        "  # I couldnt get it to work without this layer, half the weights would be nan so likely gradient blow up.\n",
        "  # Even then, I had to run it many times to get the right initial values for it to work\n",
        "  # tf.keras.layers.Dense(8, input_shape=(8,),activation='relu'), \n",
        "  # tf.keras.layers.Dense(64, activation='relu'),\n",
        "\n",
        "  tf.keras.layers.Dense(64, input_shape=(8,), activation='relu'),\n",
        "  tf.keras.layers.Dense(1)\n",
        "])\n",
        "#define opt and loss\n",
        "opt =tf.keras.optimizers.SGD(learning_rate=0.1,momentum= 0.9)\n",
        "model2.compile(optimizer=opt, loss='mean_squared_error')"
      ],
      "metadata": {
        "id": "ForV-J0Zs1PC"
      },
      "execution_count": null,
      "outputs": []
    },
    {
      "cell_type": "code",
      "source": [
        "model2.summary()"
      ],
      "metadata": {
        "colab": {
          "base_uri": "https://localhost:8080/"
        },
        "outputId": "be22690f-b162-4f14-89e4-400dd706e46f",
        "id": "y8EB0cCns1PD"
      },
      "execution_count": null,
      "outputs": [
        {
          "output_type": "stream",
          "name": "stdout",
          "text": [
            "Model: \"sequential_23\"\n",
            "_________________________________________________________________\n",
            " Layer (type)                Output Shape              Param #   \n",
            "=================================================================\n",
            " dense_56 (Dense)            (None, 64)                576       \n",
            "                                                                 \n",
            " dense_57 (Dense)            (None, 1)                 65        \n",
            "                                                                 \n",
            "=================================================================\n",
            "Total params: 641\n",
            "Trainable params: 641\n",
            "Non-trainable params: 0\n",
            "_________________________________________________________________\n"
          ]
        }
      ]
    },
    {
      "cell_type": "code",
      "source": [
        "r2 = model2.fit(X_train, y_train, validation_data=(X_test, y_test), epochs=100, verbose=0,batch_size=32)"
      ],
      "metadata": {
        "id": "OVl4Go2ns1PD"
      },
      "execution_count": null,
      "outputs": []
    },
    {
      "cell_type": "code",
      "source": [
        "model2.get_weights()"
      ],
      "metadata": {
        "colab": {
          "base_uri": "https://localhost:8080/"
        },
        "id": "TnpfRIFC0C2y",
        "outputId": "ff2e0126-7591-4684-99eb-3c35e02c39e3"
      },
      "execution_count": null,
      "outputs": [
        {
          "output_type": "execute_result",
          "data": {
            "text/plain": [
              "[array([[           nan,            nan,            nan,            nan,\n",
              "                    nan,            nan,            nan,            nan,\n",
              "                    nan,            nan,            nan,            nan,\n",
              "         -1.9611876e+07,            nan,            nan, -1.3032688e+08,\n",
              "                    nan,            nan,            nan,            nan,\n",
              "                    nan, -1.6194678e+03,            nan,            nan,\n",
              "                    nan,            nan,            nan,            nan,\n",
              "         -1.0013488e+02,            nan,            nan,            nan,\n",
              "                    nan,            nan, -6.2910317e+08,            nan,\n",
              "                    nan,            nan,            nan,            nan,\n",
              "                    nan, -8.1333795e+02,            nan,            nan,\n",
              "                    nan,            nan,            nan,            nan,\n",
              "                    nan,            nan,            nan,            nan,\n",
              "                    nan,            nan,            nan,            nan,\n",
              "                    nan,            nan,            nan,            nan,\n",
              "                    nan,            nan,            nan, -8.0255322e+02],\n",
              "        [           nan,            nan,            nan,            nan,\n",
              "                    nan,            nan,            nan,            nan,\n",
              "                    nan,            nan,            nan,            nan,\n",
              "         -2.3200080e+07,            nan,            nan, -1.6411858e+08,\n",
              "                    nan,            nan,            nan,            nan,\n",
              "                    nan, -1.4640416e+03,            nan,            nan,\n",
              "                    nan,            nan,            nan,            nan,\n",
              "         -1.1604390e+03,            nan,            nan,            nan,\n",
              "                    nan,            nan, -7.3350522e+08,            nan,\n",
              "                    nan,            nan,            nan,            nan,\n",
              "                    nan, -1.0904462e+03,            nan,            nan,\n",
              "                    nan,            nan,            nan,            nan,\n",
              "                    nan,            nan,            nan,            nan,\n",
              "                    nan,            nan,            nan,            nan,\n",
              "                    nan,            nan,            nan,            nan,\n",
              "                    nan,            nan,            nan, -8.6012891e+02],\n",
              "        [           nan,           -inf,            nan,            nan,\n",
              "                    nan,            nan,            nan,            nan,\n",
              "                    nan,            inf,            nan,            nan,\n",
              "         -1.1430099e+07,            nan,            nan, -8.0857560e+07,\n",
              "                    inf,            nan,            nan,            inf,\n",
              "                    nan, -2.7686357e-01,            nan,            nan,\n",
              "                    nan,            nan,            nan,            nan,\n",
              "         -3.4058478e+02,            nan,            nan,            nan,\n",
              "                    nan,            nan, -3.1894054e+08,            nan,\n",
              "                    nan,            nan,            nan,            nan,\n",
              "                    nan, -6.9813373e+02,            nan,            nan,\n",
              "                    nan,            nan,            nan,            nan,\n",
              "                    nan,            nan,            nan,            nan,\n",
              "                    inf,            nan,            nan,            nan,\n",
              "                    nan,            nan,            nan,            nan,\n",
              "                    nan,            nan,            nan, -3.4804907e+02],\n",
              "        [           nan,            nan,            nan,            nan,\n",
              "                    nan,            nan,            nan,            nan,\n",
              "                    nan,            nan,            nan,            nan,\n",
              "         -4.3670140e+07,            nan,            nan, -3.2967968e+08,\n",
              "                    nan,            nan,            nan,            nan,\n",
              "                    nan, -2.9349539e+03,            nan,            nan,\n",
              "                    nan,            nan,            nan,            nan,\n",
              "         -1.7599059e+03,            nan,            nan,            nan,\n",
              "                    nan,            nan, -1.3911433e+09,            nan,\n",
              "                    nan,            nan,            nan,            nan,\n",
              "                    nan, -1.8299253e+03,            nan,            nan,\n",
              "                    nan,            nan,            nan,            nan,\n",
              "                    nan,            nan,            nan,            nan,\n",
              "                    nan,            nan,            nan,            nan,\n",
              "                    nan,            nan,            nan,            nan,\n",
              "                    nan,            nan,            nan, -1.9102035e+03],\n",
              "        [           nan,            nan,            nan,            nan,\n",
              "                    nan,            nan,            nan,            nan,\n",
              "                    nan,            nan,            nan,            nan,\n",
              "         -1.4346382e+07,            nan,            nan, -1.0148693e+08,\n",
              "                    nan,            nan,            nan,            nan,\n",
              "                    nan, -3.1756101e+03,            nan,            nan,\n",
              "                    nan,            nan,            nan,            nan,\n",
              "         -9.5057751e+02,            nan,            nan,            nan,\n",
              "                    nan,            nan, -4.0031261e+08,            nan,\n",
              "                    nan,            nan,            nan,            nan,\n",
              "                    nan, -1.3461088e+03,            nan,            nan,\n",
              "                    nan,            nan,            nan,            nan,\n",
              "                    nan,            nan,            nan,            nan,\n",
              "                    nan,            nan,            nan,            nan,\n",
              "                    nan,            nan,            nan,            nan,\n",
              "                    nan,            nan,            nan, -1.5738032e+03],\n",
              "        [           nan,           -inf,           -inf,            nan,\n",
              "                    nan,            inf,            nan,           -inf,\n",
              "                    nan,           -inf,            nan,            nan,\n",
              "         -1.5239378e+07,            nan,            nan, -7.6701144e+07,\n",
              "                   -inf,            nan,            nan,           -inf,\n",
              "                    nan, -1.9015021e+03,            nan,            nan,\n",
              "                    inf,            nan,            nan,            nan,\n",
              "         -7.4805011e+02,            nan,            nan,           -inf,\n",
              "                    inf,            nan, -7.8705677e+08,            nan,\n",
              "                    nan,            nan,            inf,            nan,\n",
              "                    nan, -1.1005085e+03,            inf,            nan,\n",
              "                    nan,            inf,            inf,            inf,\n",
              "                    inf,            nan,            nan,            nan,\n",
              "                   -inf,            nan,            nan,            nan,\n",
              "                    nan,            nan,            nan,           -inf,\n",
              "                    nan,            nan,            nan, -9.3704773e+02],\n",
              "        [           nan,           -inf,           -inf,           -inf,\n",
              "                    nan,            nan,            nan,           -inf,\n",
              "                    nan,           -inf,            nan,            nan,\n",
              "         -9.0642660e+06,            nan,           -inf, -4.5154888e+07,\n",
              "                   -inf,            nan,            nan,           -inf,\n",
              "                    nan,  4.9759537e+02,           -inf,           -inf,\n",
              "                    nan,            nan,            nan,           -inf,\n",
              "          1.5487898e+02,            nan,            nan,           -inf,\n",
              "                    nan,            nan, -1.8721301e+08,            nan,\n",
              "                    nan,            nan,            nan,           -inf,\n",
              "                    nan,  2.2623813e+02,            nan,            nan,\n",
              "                    nan,            nan,            nan,            nan,\n",
              "                    nan,           -inf,            nan,            nan,\n",
              "                   -inf,            nan,           -inf,            nan,\n",
              "                    nan,           -inf,            nan,           -inf,\n",
              "                    nan,            nan,            nan,  4.6818842e+02],\n",
              "        [           nan,            inf,            nan,            nan,\n",
              "                    nan,            nan,            nan,            nan,\n",
              "                    nan,           -inf,            nan,            nan,\n",
              "         -3.0541926e+07,            nan,            nan, -1.5110338e+08,\n",
              "                   -inf,            nan,            nan,           -inf,\n",
              "                    nan,  7.4330803e+01,            nan,            nan,\n",
              "                    nan,            nan,            nan,            nan,\n",
              "          1.7671832e+02,            nan,            nan,            nan,\n",
              "                    nan,            nan, -6.8845338e+08,            nan,\n",
              "                    nan,            inf,            nan,            nan,\n",
              "                    nan, -6.4778845e+02,            nan,            nan,\n",
              "                    nan,            inf,            nan,            nan,\n",
              "                    nan,            nan,            nan,            nan,\n",
              "                   -inf,            nan,            nan,            nan,\n",
              "                    nan,            nan,            nan,            nan,\n",
              "                    nan,            nan,            nan,  3.1372515e+01]],\n",
              "       dtype=float32),\n",
              " array([           nan,           -inf,           -inf,           -inf,\n",
              "                   nan,           -inf,            nan,           -inf,\n",
              "                   nan,            inf,            nan,            nan,\n",
              "        -6.0732792e+07,            nan,           -inf, -4.2121856e+08,\n",
              "                   inf,            nan,            nan,            inf,\n",
              "                   nan, -4.1313042e+03,           -inf,           -inf,\n",
              "                  -inf,            nan,            nan,           -inf,\n",
              "        -2.1093462e+03,            nan,            nan,           -inf,\n",
              "                  -inf,            nan, -1.9533924e+09,            nan,\n",
              "                   nan,           -inf,           -inf,           -inf,\n",
              "                   nan, -2.8796550e+03,           -inf,            nan,\n",
              "                   nan,           -inf,           -inf,           -inf,\n",
              "                  -inf,           -inf,            nan,            nan,\n",
              "                   inf,            nan,           -inf,            nan,\n",
              "                   nan,           -inf,            nan,           -inf,\n",
              "                   nan,            nan,            nan, -2.5300117e+03],\n",
              "       dtype=float32),\n",
              " array([[nan],\n",
              "        [nan],\n",
              "        [nan],\n",
              "        [nan],\n",
              "        [nan],\n",
              "        [nan],\n",
              "        [nan],\n",
              "        [nan],\n",
              "        [nan],\n",
              "        [nan],\n",
              "        [nan],\n",
              "        [nan],\n",
              "        [nan],\n",
              "        [nan],\n",
              "        [nan],\n",
              "        [nan],\n",
              "        [nan],\n",
              "        [nan],\n",
              "        [nan],\n",
              "        [nan],\n",
              "        [nan],\n",
              "        [nan],\n",
              "        [nan],\n",
              "        [nan],\n",
              "        [nan],\n",
              "        [nan],\n",
              "        [nan],\n",
              "        [nan],\n",
              "        [nan],\n",
              "        [nan],\n",
              "        [nan],\n",
              "        [nan],\n",
              "        [nan],\n",
              "        [nan],\n",
              "        [nan],\n",
              "        [nan],\n",
              "        [nan],\n",
              "        [nan],\n",
              "        [nan],\n",
              "        [nan],\n",
              "        [nan],\n",
              "        [nan],\n",
              "        [nan],\n",
              "        [nan],\n",
              "        [nan],\n",
              "        [nan],\n",
              "        [nan],\n",
              "        [nan],\n",
              "        [nan],\n",
              "        [nan],\n",
              "        [nan],\n",
              "        [nan],\n",
              "        [nan],\n",
              "        [nan],\n",
              "        [nan],\n",
              "        [nan],\n",
              "        [nan],\n",
              "        [nan],\n",
              "        [nan],\n",
              "        [nan],\n",
              "        [nan],\n",
              "        [nan],\n",
              "        [nan],\n",
              "        [nan]], dtype=float32),\n",
              " array([nan], dtype=float32)]"
            ]
          },
          "metadata": {},
          "execution_count": 150
        }
      ]
    },
    {
      "cell_type": "code",
      "source": [
        "print(r2.history['loss'][-2:])\n",
        "print(\"###\")\n",
        "plt.plot(r2.history['loss'])"
      ],
      "metadata": {
        "colab": {
          "base_uri": "https://localhost:8080/",
          "height": 328
        },
        "outputId": "6f52a50c-89ea-41ff-d8af-bd9958fa96d3",
        "id": "er_i-N5Cs1PD"
      },
      "execution_count": null,
      "outputs": [
        {
          "output_type": "stream",
          "name": "stdout",
          "text": [
            "[151192864.0, 149985040.0]\n",
            "###\n"
          ]
        },
        {
          "output_type": "execute_result",
          "data": {
            "text/plain": [
              "[<matplotlib.lines.Line2D at 0x7febfca30250>]"
            ]
          },
          "metadata": {},
          "execution_count": 118
        },
        {
          "output_type": "display_data",
          "data": {
            "text/plain": [
              "<Figure size 432x288 with 1 Axes>"
            ],
            "image/png": "[encoded data removed]"
          },
          "metadata": {
            "needs_background": "light"
          }
        }
      ]
    },
    {
      "cell_type": "code",
      "source": [
        "print(r2.history['val_loss'][-2:])\n",
        "print(\"###\")\n",
        "plt.plot(r2.history['val_loss'])"
      ],
      "metadata": {
        "colab": {
          "base_uri": "https://localhost:8080/",
          "height": 328
        },
        "outputId": "bb55e181-b7da-42eb-8ae5-a467fac38646",
        "id": "CunYaGPjs1PD"
      },
      "execution_count": null,
      "outputs": [
        {
          "output_type": "stream",
          "name": "stdout",
          "text": [
            "[4.3362934693463336e+26, 4.3362934693463336e+26]\n",
            "###\n"
          ]
        },
        {
          "output_type": "execute_result",
          "data": {
            "text/plain": [
              "[<matplotlib.lines.Line2D at 0x7febfc98c9d0>]"
            ]
          },
          "metadata": {},
          "execution_count": 119
        },
        {
          "output_type": "display_data",
          "data": {
            "text/plain": [
              "<Figure size 432x288 with 1 Axes>"
            ],
            "image/png": "[encoded data removed]"
          },
          "metadata": {
            "needs_background": "light"
          }
        }
      ]
    },
    {
      "cell_type": "code",
      "source": [
        "print(\" X-\",X_test.loc[628], \";\\n\\n Y-\", y_test.loc[628])\n",
        "print(\"####\")\n",
        "print((model2.predict(np.array( [X_test.loc[628],] ) )))\n"
      ],
      "metadata": {
        "colab": {
          "base_uri": "https://localhost:8080/"
        },
        "outputId": "98d27add-09ec-4822-ee2f-f578767357dd",
        "id": "VIVOP1Pis1PE"
      },
      "execution_count": null,
      "outputs": [
        {
          "output_type": "stream",
          "name": "stdout",
          "text": [
            " X- region_northwest    1.000000\n",
            "region_southeast    0.000000\n",
            "region_southwest    0.000000\n",
            "sex_male            0.000000\n",
            "smoker_yes          1.000000\n",
            "age-norm            0.340326\n",
            "bmi-norm            1.358854\n",
            "children-norm      -0.909234\n",
            "Name: 628, dtype: float64 ;\n",
            "\n",
            " Y- 42983.4585\n",
            "####\n",
            "[[13478.798]]\n"
          ]
        }
      ]
    },
    {
      "cell_type": "markdown",
      "source": [
        "9) Now, change the optimizer to rmsprop. Run it for 100 epochs. Plot the loss plot for training and validation."
      ],
      "metadata": {
        "id": "aQtFD6pkyLKV"
      }
    },
    {
      "cell_type": "code",
      "source": [
        "#model design\n",
        "model3 = tf.keras.models.Sequential([\n",
        "  tf.keras.layers.Dense(64, input_shape=(8,), activation='relu'),\n",
        "  tf.keras.layers.Dense(1)\n",
        "])\n",
        "#define opt and loss\n",
        "opt =tf.keras.optimizers.RMSprop(0.01)\n",
        "model3.compile(optimizer=opt, loss='mean_squared_error')"
      ],
      "metadata": {
        "id": "JXBIAh-JyR9d"
      },
      "execution_count": null,
      "outputs": []
    },
    {
      "cell_type": "code",
      "source": [
        "model3.summary()"
      ],
      "metadata": {
        "colab": {
          "base_uri": "https://localhost:8080/"
        },
        "outputId": "2eee78a7-67bd-4fcb-9d77-123da27cf92b",
        "id": "8AjBCZyzyR9e"
      },
      "execution_count": null,
      "outputs": [
        {
          "output_type": "stream",
          "name": "stdout",
          "text": [
            "Model: \"sequential_18\"\n",
            "_________________________________________________________________\n",
            " Layer (type)                Output Shape              Param #   \n",
            "=================================================================\n",
            " dense_46 (Dense)            (None, 64)                576       \n",
            "                                                                 \n",
            " dense_47 (Dense)            (None, 1)                 65        \n",
            "                                                                 \n",
            "=================================================================\n",
            "Total params: 641\n",
            "Trainable params: 641\n",
            "Non-trainable params: 0\n",
            "_________________________________________________________________\n"
          ]
        }
      ]
    },
    {
      "cell_type": "code",
      "source": [
        "r3 = model3.fit(X_train, y_train, validation_data=(X_test, y_test), epochs=100, verbose=0)"
      ],
      "metadata": {
        "id": "febDqrnRyR9e"
      },
      "execution_count": null,
      "outputs": []
    },
    {
      "cell_type": "code",
      "source": [
        "model3.get_weights()[0][0]"
      ],
      "metadata": {
        "colab": {
          "base_uri": "https://localhost:8080/"
        },
        "id": "U19P27iuzTr7",
        "outputId": "5c65f538-c5a3-45a8-b5ea-bdc2abe3193d"
      },
      "execution_count": null,
      "outputs": [
        {
          "output_type": "execute_result",
          "data": {
            "text/plain": [
              "array([ 4.6559814e-02,  1.6777084e+00, -1.9643536e-01,  1.5279758e+00,\n",
              "        6.0601924e-02, -1.6978696e-01,  1.7674133e+00,  1.7609310e+00,\n",
              "        1.3018913e+00,  1.5327150e+00,  2.3998623e-04,  1.1485197e-02,\n",
              "        1.1878381e+00,  1.5574250e+00,  8.4296346e-01,  1.3053730e+00,\n",
              "        7.4398048e-02,  1.5938640e+00,  1.5122708e+00,  1.4884626e+00,\n",
              "        1.5255764e+00,  1.6681445e+00,  1.6110206e+00,  1.3275884e+00,\n",
              "        1.6848332e+00,  7.3457909e-01,  1.5439126e+00,  1.0798770e+00,\n",
              "        1.5026824e+00,  1.5010284e+00,  1.8088052e+00,  1.1194782e+00,\n",
              "        8.2932663e-01,  2.9336372e-02,  1.6209465e+00,  1.6117566e+00,\n",
              "        1.7476996e+00,  1.4558210e+00,  1.5317874e+00,  1.8116828e+00,\n",
              "        1.2325934e+00, -1.8548508e-01, -1.9135979e-01,  6.6897392e-02,\n",
              "       -3.5674747e-02, -1.9344005e-01,  1.6246530e+00,  1.1794666e+00,\n",
              "        1.6847032e+00,  1.1896693e+00,  1.4229215e+00,  9.8479562e-02,\n",
              "        1.5142934e+00,  1.1298213e+00, -9.3238793e-02,  1.2677225e+00,\n",
              "        1.1914064e+00,  1.7079152e+00,  1.3488222e+00, -5.3614622e-04,\n",
              "        1.2863338e+00,  1.3161384e+00,  1.1563902e+00,  1.5981805e+00],\n",
              "      dtype=float32)"
            ]
          },
          "metadata": {},
          "execution_count": 124
        }
      ]
    },
    {
      "cell_type": "code",
      "source": [
        "print(r3.history['loss'][-2:])\n",
        "print(\"###\")\n",
        "plt.plot(r3.history['loss'])"
      ],
      "metadata": {
        "colab": {
          "base_uri": "https://localhost:8080/",
          "height": 328
        },
        "outputId": "0d1f1bee-3578-4595-cb48-f0b4cf4b8f4b",
        "id": "_c63ffMDyR9e"
      },
      "execution_count": null,
      "outputs": [
        {
          "output_type": "stream",
          "name": "stdout",
          "text": [
            "[38755220.0, 38557068.0]\n",
            "###\n"
          ]
        },
        {
          "output_type": "execute_result",
          "data": {
            "text/plain": [
              "[<matplotlib.lines.Line2D at 0x7febfd6e0d90>]"
            ]
          },
          "metadata": {},
          "execution_count": 125
        },
        {
          "output_type": "display_data",
          "data": {
            "text/plain": [
              "<Figure size 432x288 with 1 Axes>"
            ],
            "image/png": "[encoded data removed]"
          },
          "metadata": {
            "needs_background": "light"
          }
        }
      ]
    },
    {
      "cell_type": "code",
      "source": [
        "print(r3.history['val_loss'][-2:])\n",
        "print(\"###\")\n",
        "plt.plot(r3.history['val_loss'])"
      ],
      "metadata": {
        "colab": {
          "base_uri": "https://localhost:8080/",
          "height": 328
        },
        "outputId": "b55b9fa9-aecb-4ce6-ffd0-2aa64cca7314",
        "id": "aHaaER_1yR9e"
      },
      "execution_count": null,
      "outputs": [
        {
          "output_type": "stream",
          "name": "stdout",
          "text": [
            "[38164240.0, 37999072.0]\n",
            "###\n"
          ]
        },
        {
          "output_type": "execute_result",
          "data": {
            "text/plain": [
              "[<matplotlib.lines.Line2D at 0x7febfd69bcd0>]"
            ]
          },
          "metadata": {},
          "execution_count": 126
        },
        {
          "output_type": "display_data",
          "data": {
            "text/plain": [
              "<Figure size 432x288 with 1 Axes>"
            ],
            "image/png": "[encoded data removed]"
          },
          "metadata": {
            "needs_background": "light"
          }
        }
      ]
    },
    {
      "cell_type": "code",
      "source": [
        "print(\" X-\",X_test.loc[628], \";\\n\\n Y-\", y_test.loc[628])\n",
        "print(\"####\")\n",
        "print((model3.predict(np.array( [X_test.loc[628],] ) )))\n"
      ],
      "metadata": {
        "colab": {
          "base_uri": "https://localhost:8080/"
        },
        "outputId": "e27bbdc5-a686-44b8-fc74-5a7c8a35c76e",
        "id": "m0VqS4JSyR9e"
      },
      "execution_count": null,
      "outputs": [
        {
          "output_type": "stream",
          "name": "stdout",
          "text": [
            " X- region_northwest    1.000000\n",
            "region_southeast    0.000000\n",
            "region_southwest    0.000000\n",
            "sex_male            0.000000\n",
            "smoker_yes          1.000000\n",
            "age-norm            0.340326\n",
            "bmi-norm            1.358854\n",
            "children-norm      -0.909234\n",
            "Name: 628, dtype: float64 ;\n",
            "\n",
            " Y- 42983.4585\n",
            "####\n",
            "[[34577.47]]\n"
          ]
        }
      ]
    },
    {
      "cell_type": "markdown",
      "source": [
        "10)  Which network performed the best? Do you have ideas on how the performance can be improved? Answer this \n",
        "question in the markdown cell in the notebook.  "
      ],
      "metadata": {
        "id": "KgFrKTeKliAI"
      }
    },
    {
      "cell_type": "markdown",
      "source": [
        "Based on the r2score I've created below, it appears Adam is the best network. However, this switches with the Adam optimizer each time I run the notebook, so the reuslts are very close between those models. The SGD does not appear to perform well at all, producing a negative r2score.\n",
        "\n",
        "Improvements:\n",
        "*   Because the results vary strongly each run, it is unlikely we have trained enough to remove the error caused by the random state of the intital nodes. It is unlikely we have reached a true bottom of loss or convergence with our 100 epochs.\n",
        "*   In a similar suggestion, we can adjust the learning rate (maybe even a scheduler) and modify the momentum for SGD.\n",
        "*   The network's middle layer of 64 nodes is rather abritary and likely doesn't conform to any representitive products or robust metrics. In other words, we are unlikely creating things like \"School Quality\" from Zipcode and Wealth. We're most likely creating just noise. So, a better configuration of layers and nodes would help.\n",
        "\n",
        "\n",
        "\n"
      ],
      "metadata": {
        "id": "qzRSb6RtllOl"
      }
    },
    {
      "cell_type": "code",
      "source": [
        "from sklearn.metrics import r2_score\n",
        "\n",
        "y_true = np.array( [y_test] )"
      ],
      "metadata": {
        "id": "3549CbFnn0x4"
      },
      "execution_count": null,
      "outputs": []
    },
    {
      "cell_type": "code",
      "source": [
        "y_pred = model1.predict(X_test)\n",
        "y_pred = [num for sublist in y_pred for num in sublist]\n",
        "r2_score(y_true[0], y_pred)"
      ],
      "metadata": {
        "colab": {
          "base_uri": "https://localhost:8080/"
        },
        "id": "QX3gRcigtbxl",
        "outputId": "7cb95c41-4125-4f1d-ef37-c3972f0f51ad"
      },
      "execution_count": null,
      "outputs": [
        {
          "output_type": "execute_result",
          "data": {
            "text/plain": [
              "0.72929369881574"
            ]
          },
          "metadata": {},
          "execution_count": 129
        }
      ]
    },
    {
      "cell_type": "code",
      "source": [
        "y_pred = model2.predict(X_test)\n",
        "y_pred = [num for sublist in y_pred for num in sublist]\n",
        "r2_score(y_true[0], y_pred)"
      ],
      "metadata": {
        "colab": {
          "base_uri": "https://localhost:8080/"
        },
        "id": "dDs-6vWotb3s",
        "outputId": "3d3cb6c8-e832-4542-c67a-58514295fbce"
      },
      "execution_count": null,
      "outputs": [
        {
          "output_type": "execute_result",
          "data": {
            "text/plain": [
              "-3.0068919949716127e+18"
            ]
          },
          "metadata": {},
          "execution_count": 130
        }
      ]
    },
    {
      "cell_type": "code",
      "source": [
        "y_pred = model3.predict(X_test)\n",
        "y_pred = [num for sublist in y_pred for num in sublist]\n",
        "r2_score(y_true[0], y_pred)"
      ],
      "metadata": {
        "colab": {
          "base_uri": "https://localhost:8080/"
        },
        "id": "Kuz7k_HFnwrw",
        "outputId": "8680cc31-309d-4a75-e58b-0cbc201a079e"
      },
      "execution_count": null,
      "outputs": [
        {
          "output_type": "execute_result",
          "data": {
            "text/plain": [
              "0.7365051384490284"
            ]
          },
          "metadata": {},
          "execution_count": 131
        }
      ]
    },
    {
      "cell_type": "code",
      "source": [
        "%%shell\n",
        "jupyter nbconvert \"/content/Assignment2copy.ipynb\""
      ],
      "metadata": {
        "colab": {
          "base_uri": "https://localhost:8080/"
        },
        "id": "v4NIn28U38sN",
        "outputId": "118b9692-a4b7-4fec-da98-03652cf60fa4"
      },
      "execution_count": null,
      "outputs": [
        {
          "output_type": "stream",
          "name": "stdout",
          "text": [
            "[NbConvertApp] Converting notebook /content/Assignment2copy.ipynb to html\n",
            "[NbConvertApp] Writing 434920 bytes to /content/Assignment2copy.html\n"
          ]
        },
        {
          "output_type": "execute_result",
          "data": {
            "text/plain": []
          },
          "metadata": {},
          "execution_count": 133
        }
      ]
    }
  ]
}